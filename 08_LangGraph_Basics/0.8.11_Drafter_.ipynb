{
 "cells": [
  {
   "cell_type": "markdown",
   "id": "fd246b8a",
   "metadata": {},
   "source": [
    "# Drafter Agent\n",
    "\n",
    "We will create a drafter Ai agent that writes draft for documents.\n",
    "\n",
    "This implementation will be different from the ReAct agent in the following way: the process will end after a specific tool call - the saving tool call.\n",
    "\n",
    "So the process doesn't go back to the agent after tool calling and then to `END`. \n",
    "\n",
    "See the image below:"
   ]
  },
  {
   "cell_type": "markdown",
   "id": "eae4316f",
   "metadata": {},
   "source": [
    "<div style=\"text-align: center;\">\n",
    "  <img src=\"../images/drafter.png\" alt=\"Basic Example of a graph in LangGraph\" style=\"width: 30%;\">\n",
    "</div>\n"
   ]
  },
  {
   "cell_type": "markdown",
   "id": "444ce0d6",
   "metadata": {},
   "source": [
    "### Why defining a global variable? \n",
    "\n",
    "We define a global `document_content = \"\"` in order to pass a state in tools. The correct way to do so would be to use `Injected_State` (see this [blog post](https://dragonforest.in/injectedstate-in-langgraph/)) which is out of the scope of this course. \n",
    "\n",
    "As a workaround, we use a global variable."
   ]
  },
  {
   "cell_type": "markdown",
   "id": "4bfd04d1",
   "metadata": {},
   "source": [
    "### Reminder: tool arguments\n",
    "\n",
    "Just a reminder for the fact that the `content` and `filename` of our defined tools will be provided by the llm at runtime when it's using the tool."
   ]
  }
 ],
 "metadata": {
  "language_info": {
   "name": "python"
  }
 },
 "nbformat": 4,
 "nbformat_minor": 5
}
