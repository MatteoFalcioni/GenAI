{
 "cells": [
  {
   "cell_type": "code",
   "execution_count": null,
   "id": "c1f5f32f",
   "metadata": {},
   "outputs": [],
   "source": [
    "# docker"
   ]
  },
  {
   "cell_type": "markdown",
   "id": "2d9dd487",
   "metadata": {},
   "source": [
    "# Here we'll talk about using Ollama in LangGraph"
   ]
  },
  {
   "cell_type": "markdown",
   "id": "7e66d7a8",
   "metadata": {},
   "source": [
    "https://github.com/oct4pie/toolbridge?utm_source=chatgpt.com"
   ]
  }
 ],
 "metadata": {
  "kernelspec": {
   "display_name": "openAI",
   "language": "python",
   "name": "python3"
  },
  "language_info": {
   "name": "python",
   "version": "3.10.18"
  }
 },
 "nbformat": 4,
 "nbformat_minor": 5
}
