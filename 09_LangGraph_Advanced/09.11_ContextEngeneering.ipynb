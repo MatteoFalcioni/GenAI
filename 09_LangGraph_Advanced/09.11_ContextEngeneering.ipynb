{
 "cells": [
  {
   "cell_type": "code",
   "execution_count": null,
   "id": "13544ee3",
   "metadata": {},
   "outputs": [],
   "source": [
    "#docker"
   ]
  },
  {
   "cell_type": "markdown",
   "id": "ba8f0fc0",
   "metadata": {},
   "source": [
    "# Maybe we could do one nbook on this\n",
    "\n",
    "https://mirror-feeling-d80.notion.site/Context-Engineering-for-Agents-21f808527b17802db4b1c84a068a0976\n",
    "https://www.youtube.com/watch?v=4GiqzUHD5AA&t=1172s"
   ]
  }
 ],
 "metadata": {
  "kernelspec": {
   "display_name": "openAI",
   "language": "python",
   "name": "python3"
  },
  "language_info": {
   "name": "python",
   "version": "3.10.18"
  }
 },
 "nbformat": 4,
 "nbformat_minor": 5
}
