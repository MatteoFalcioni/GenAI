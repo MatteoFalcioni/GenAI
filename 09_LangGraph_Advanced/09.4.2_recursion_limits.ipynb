{
 "cells": [
  {
   "cell_type": "markdown",
   "id": "bdcb19c5",
   "metadata": {},
   "source": [
    "# Recursion Limits\n",
    "\n",
    "In this notebook let's make some tries defining `remaining_steps` inside a custom `state_schema` and seeing if it works for recursion limit control. \n",
    "\n",
    "For example build a class with `remanining_steps ` and try to make it halt by itself. If it doesn't, it means that LangGraph doesn't handle it automatically. \n",
    "\n",
    "Then after that try and set explicit control flows. I know how to do it in a `Command[Literal[\"next_possible_node1\", \"next_possible_node2\"]]` fashion, but my doubt is: in my supervisor graph I have no nodes. Maybe I should create it from scratch in order to have that kind of control?"
   ]
  },
  {
   "cell_type": "markdown",
   "id": "79d36d3c",
   "metadata": {},
   "source": [
    "> Here are some sources for this topic:\n",
    "> - [Graph-API: Impose a recursion limit](https://langchain-ai.github.io/langgraph/how-tos/graph-api/?utm_source=chatgpt.com#impose-a-recursion-limit);\n",
    "> - ['Medium' post about recursion limits](https://medium.com/@pankajchandravanshi/df371792c8b9);\n",
    "> - [Adding `remaining_steps` fixed a recursion error problem](https://stackoverflow.com/questions/79446089/langgraph-create-react-agent-with-sqltoolkit-issue-sorry-need-more-steps-to-pr?utm_source=chatgpt.com)."
   ]
  },
  {
   "cell_type": "markdown",
   "id": "fc60e2dd",
   "metadata": {},
   "source": [
    "Let's make a very simple example: a custom state with a counter that we increment by $1$ at every step (basically the step counter)."
   ]
  },
  {
   "cell_type": "code",
   "execution_count": null,
   "id": "4e778ab1",
   "metadata": {},
   "outputs": [],
   "source": [
    "from typing import Annotated\n",
    "from langgraph.graph import MessagesState\n",
    "from langgraph.managed.is_last_step import RemainingSteps\n",
    "from pydantic import Field\n",
    "\n",
    "# reducer\n",
    "def counter_add(value: int):\n",
    "    return value + 1\n",
    "\n",
    "# custom state\n",
    "class CustomState(MessagesState):\n",
    "    counter: Annotated[int, counter_add] = Field(default=0)\n",
    "    remaining_steps: RemainingSteps = Field(default=20)"
   ]
  },
  {
   "cell_type": "markdown",
   "id": "f1218801",
   "metadata": {},
   "source": [
    "> **Why Use `Field()` in Pydantic (and LangGraph)**\n",
    ">\n",
    "> When defining default values in a `pydantic.BaseModel`, use `Field()` to avoid bugs — especially with **mutable types** like `dict`, `list`, and `set`.\n",
    ">\n",
    "> #### 🚫 What *not* to do\n",
    ">\n",
    "> ```python\n",
    "> class State(BaseModel):\n",
    ">     loaded: dict = {}  # ❌ Shared across all instances\n",
    "> ```\n",
    ">\n",
    "> #### ✅ Correct way\n",
    ">\n",
    "> ```python\n",
    "> from pydantic import Field\n",
    ">\n",
    "> class State(BaseModel):\n",
    ">     loaded: dict = Field(default_factory=dict)  # ✅ New dict per instance\n",
    "> ```\n",
    ">\n",
    "> This ensures that each instance gets its own fresh dictionary and prevents side effects across agents in LangGraph.\n",
    ">\n",
    "> #### Simple rule of thumb\n",
    ">\n",
    "> * Use `Field(default_factory=...)` for mutable types (like `dict`, `list`)\n",
    "> * Use `Field(default=...)` or direct `=` for immutable types (like `int`, `str`)\n",
    ">\n",
    "> #### In LangGraph\n",
    ">\n",
    "> LangGraph's custom states often contain fields like `messages`, `loaded`, and `remaining_steps`. Use `Field(...)` to ensure proper initialization and avoid shared state bugs between agent runs.\n"
   ]
  }
 ],
 "metadata": {
  "kernelspec": {
   "display_name": "openAI",
   "language": "python",
   "name": "python3"
  },
  "language_info": {
   "codemirror_mode": {
    "name": "ipython",
    "version": 3
   },
   "file_extension": ".py",
   "mimetype": "text/x-python",
   "name": "python",
   "nbconvert_exporter": "python",
   "pygments_lexer": "ipython3",
   "version": "3.10.18"
  }
 },
 "nbformat": 4,
 "nbformat_minor": 5
}
