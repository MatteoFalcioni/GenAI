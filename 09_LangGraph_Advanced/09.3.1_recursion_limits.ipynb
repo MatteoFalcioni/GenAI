{
 "cells": [
  {
   "cell_type": "markdown",
   "id": "bdcb19c5",
   "metadata": {},
   "source": [
    "# Recursion Limits\n",
    "\n",
    "In this notebook let's make some tries defining `remaining_steps` inside a custom `state_schema` and seeing if it works for recursion limit control. \n",
    "\n",
    "For example build a class with `remanining_steps ` and try to make it halt by itself. If it doesn't, it means that LangGraph doesn't handle it automatically. \n",
    "\n",
    "Then after that try and set explicit control flows. I know how to do it in a `Command[Literal[\"next_possible_node1\", \"next_possible_node2\"]]` fashion, but my doubt is: in my supervisor graph I have no nodes. Maybe I should create it from scratch in order to have that kind of control?"
   ]
  },
  {
   "cell_type": "code",
   "execution_count": 1,
   "id": "79d36d3c",
   "metadata": {},
   "outputs": [],
   "source": [
    "# docker"
   ]
  }
 ],
 "metadata": {
  "kernelspec": {
   "display_name": "openAI",
   "language": "python",
   "name": "python3"
  },
  "language_info": {
   "codemirror_mode": {
    "name": "ipython",
    "version": 3
   },
   "file_extension": ".py",
   "mimetype": "text/x-python",
   "name": "python",
   "nbconvert_exporter": "python",
   "pygments_lexer": "ipython3",
   "version": "3.10.18"
  }
 },
 "nbformat": 4,
 "nbformat_minor": 5
}
