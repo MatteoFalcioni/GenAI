{
 "cells": [
  {
   "cell_type": "markdown",
   "id": "65ce26d5",
   "metadata": {},
   "source": [
    "# need to make a notebook about deep agents\n",
    "\n",
    "https://www.youtube.com/watch?v=TTMYJAw5tiA&t=603s"
   ]
  }
 ],
 "metadata": {
  "language_info": {
   "name": "python"
  }
 },
 "nbformat": 4,
 "nbformat_minor": 5
}
