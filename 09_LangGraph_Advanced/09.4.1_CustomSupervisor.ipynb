{
 "cells": [
  {
   "cell_type": "markdown",
   "id": "50056d7d",
   "metadata": {},
   "source": [
    "# Custom Supervisor Example"
   ]
  },
  {
   "cell_type": "markdown",
   "id": "cefee823",
   "metadata": {},
   "source": [
    "I want to make a version of an agent supervisor system that i have made, implementing the supervisor from scratch. \n",
    "\n",
    "This combines elements for the agent_supervisor, InjectedState and Reducers notebooks. See those for references."
   ]
  },
  {
   "cell_type": "markdown",
   "id": "5e440884",
   "metadata": {},
   "source": [
    "We will implement an extremely simplified version of our RAG system, that will just load datasets into state, analize them and visualize them. In order to do so we will have just a supervisor and a data analyst with visualization capabilities."
   ]
  }
 ],
 "metadata": {
  "kernelspec": {
   "display_name": "openAI",
   "language": "python",
   "name": "python3"
  },
  "language_info": {
   "codemirror_mode": {
    "name": "ipython",
    "version": 3
   },
   "file_extension": ".py",
   "mimetype": "text/x-python",
   "name": "python",
   "nbconvert_exporter": "python",
   "pygments_lexer": "ipython3",
   "version": "3.10.18"
  }
 },
 "nbformat": 4,
 "nbformat_minor": 5
}
