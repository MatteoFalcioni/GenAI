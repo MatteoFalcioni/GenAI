{
 "cells": [
  {
   "cell_type": "markdown",
   "id": "0ba0acf4",
   "metadata": {},
   "source": [
    "# Agent Chat User Interface\n",
    "\n",
    "LangGraph recently addeed an easy-to-use User Interface for our agents. It can be used with any graph - or at least it looks like it - so why don't we try using it? \n",
    "\n",
    "Resources:\n",
    "- [yt tutorial](https://youtu.be/SMuOVOG-cjA?si=xLV12uZxDJaia8Bz)\n",
    "- [`agent-chat-ui` repository](https://github.com/langchain-ai/agent-chat-ui)\n",
    "- [LangGraph CLI](https://langchain-ai.github.io/langgraph/cloud/reference/cli/#langgraph-cli)\n",
    "- [LangGraph Studio](https://langchain-ai.github.io/langgraph/concepts/langgraph_studio/#langgraph-studio)"
   ]
  },
  {
   "cell_type": "markdown",
   "id": "7362567c",
   "metadata": {},
   "source": [
    "## Build Our Custom Agent\n",
    "\n",
    "First we need to build our custom agent. We will use a simplified version of RAGV4.1 (an agent supervisor coordinating a data analyst and a visualzier) from on my personal projects. We will just have the supervisor and the analyst, which will only load data. "
   ]
  },
  {
   "cell_type": "markdown",
   "id": "0585d79a",
   "metadata": {},
   "source": [
    "Let's make all the imports"
   ]
  },
  {
   "cell_type": "code",
   "execution_count": 1,
   "id": "7132efe0",
   "metadata": {},
   "outputs": [],
   "source": [
    "# Standard library\n",
    "import os\n",
    "from pathlib import Path\n",
    "from typing import Union, Dict\n",
    "from typing_extensions import Annotated\n",
    "\n",
    "# Third-party libraries\n",
    "import pandas as pd\n",
    "import geopandas as gpd\n",
    "\n",
    "# LangChain and LangGraph\n",
    "from langchain_core.messages import ToolMessage\n",
    "from langchain_core.tools import tool, InjectedToolCallId\n",
    "from langchain_experimental.utilities import PythonREPL\n",
    "from langgraph.graph import MessagesState\n",
    "from langgraph.prebuilt import InjectedState\n",
    "from langgraph.types import Command\n",
    "\n",
    "\n",
    "DATASET_FOLDER = \"./LLM_data\""
   ]
  },
  {
   "cell_type": "markdown",
   "id": "70173edf",
   "metadata": {},
   "source": [
    "We want to load our API keys: I'll use OpenAI in this example, so we will jsut set that up in our `UI.env` file, together with a LangSmith API key (this is not needed, but it's nice to have it set up - still you can do everything without LangSmith)."
   ]
  },
  {
   "cell_type": "code",
   "execution_count": null,
   "id": "8f4d2821",
   "metadata": {},
   "outputs": [],
   "source": [
    "# setup keys\n",
    "\n",
    "import getpass\n",
    "import os\n",
    "from dotenv import load_dotenv\n",
    "from pathlib import Path\n",
    "\n",
    "env_name = \"UI\"  \n",
    "env_path = Path(\"envs\") / f\"{env_name}.env\"\n",
    "\n",
    "load_dotenv(dotenv_path=env_path)\n",
    "\n",
    "def _set_if_undefined(var: str):\n",
    "    if not os.environ.get(var):\n",
    "        os.environ[var] = getpass.getpass(f\"Please provide your {var}\")\n",
    "\n",
    "\n",
    "_set_if_undefined(\"OPENAI_API_KEY\")\n",
    "_set_if_undefined(\"LANGSMITH_API_KEY\")"
   ]
  },
  {
   "cell_type": "markdown",
   "id": "d95e2ecf",
   "metadata": {},
   "source": [
    "### reducer and state_schema"
   ]
  },
  {
   "cell_type": "code",
   "execution_count": 2,
   "id": "132b7122",
   "metadata": {},
   "outputs": [],
   "source": [
    "def merge_dictionary_entries(existing_dict: Union[dict, None] = None, new_dict: Union[dict, None] = None) -> dict:\n",
    "    \"\"\"\n",
    "    Custom reducer to merge dictionary updates:\n",
    "    adds keys from new_dict only if they are not already in existing_dict.\n",
    "    \"\"\"\n",
    "\n",
    "    if not existing_dict:\n",
    "        existing_dict = {}\n",
    "    if not new_dict:\n",
    "        new_dict = {}\n",
    "\n",
    "    for key, data in new_dict.items():\n",
    "        if key not in existing_dict:\n",
    "            existing_dict[key] = data\n",
    "    \n",
    "    return existing_dict"
   ]
  },
  {
   "cell_type": "code",
   "execution_count": 3,
   "id": "1a821c43",
   "metadata": {},
   "outputs": [],
   "source": [
    "class DatasetState(MessagesState):\n",
    "    loaded: Annotated[Dict[str, Union[pd.DataFrame, gpd.GeoDataFrame]], merge_dictionary_entries]\n",
    "    descriptions: Annotated[Dict[str, str], merge_dictionary_entries]\n",
    "    remaining_steps: int"
   ]
  },
  {
   "cell_type": "markdown",
   "id": "ca70f74a",
   "metadata": {},
   "source": [
    "### tools"
   ]
  },
  {
   "cell_type": "code",
   "execution_count": 4,
   "id": "36a3a2a3",
   "metadata": {},
   "outputs": [],
   "source": [
    "# ----------------------\n",
    "# Tool: list datasets\n",
    "# ----------------------\n",
    "@tool\n",
    "def list_loadable_datasets() -> str:\n",
    "    \"\"\"Lists all available parquet datasets in the dataset folder.\"\"\"\n",
    "    files = [f for f in os.listdir(DATASET_FOLDER) if f.endswith(\".parquet\")]\n",
    "    return \"\\n\".join(files) if files else \"No parquet datasets found.\"\n",
    "\n",
    "@tool\n",
    "def list_inmemory_datasets(state: Annotated[DatasetState, InjectedState]) -> str:\n",
    "    \"\"\"Lists all loaded datasets and their type (DataFrame or GeoDataFrame).\"\"\"\n",
    "    if not state[\"loaded\"]:\n",
    "        return \"No loaded datasets in memory. Use list_loadable_datasets() to see available files.\"\n",
    "    \n",
    "    lines = []\n",
    "    for name, df in state[\"loaded\"].items():\n",
    "        dtype = \"GeoDataFrame\" if isinstance(df, gpd.GeoDataFrame) else \"DataFrame\"\n",
    "        lines.append(f\"- {name}: {dtype} (shape={df.shape})\")\n",
    "\n",
    "    return \"\\n\".join(lines)\n",
    "\n",
    "# ----------------------\n",
    "# Tool: load datasets\n",
    "# ----------------------\n",
    "@tool\n",
    "def load_dataset(file_name: str, tool_call_id: Annotated[str, InjectedToolCallId]) -> Command:\n",
    "    \"\"\"\n",
    "    Loads a Parquet dataset (optionally as GeoDataFrame) and updates state['loaded'][name].\n",
    "    \"\"\"\n",
    "    update = {}\n",
    "\n",
    "    file_stem = Path(file_name).stem\n",
    "    file_name = f\"{file_stem}.parquet\"\n",
    "    path = Path(DATASET_FOLDER) / file_name\n",
    "\n",
    "    if not path.exists():\n",
    "        return f\"File '{file_name}' not found.\"\n",
    "\n",
    "    try:\n",
    "        df = pd.read_parquet(path)\n",
    "        if \"geometry\" in df.columns:\n",
    "            try:\n",
    "                df = gpd.read_parquet(path)\n",
    "            except Exception as geo_err:\n",
    "                return f\"Failed to load as GeoDataFrame: {geo_err}\"\n",
    "        update[file_stem] = df\n",
    "    except Exception as e:\n",
    "        return f\"Error loading dataset: {e}\"\n",
    "\n",
    "    return Command(update={\n",
    "        \"loaded\": update,   \n",
    "        \"messages\": [\n",
    "            ToolMessage(f\"Loaded dataset '{file_stem}' into memory.\", tool_call_id=tool_call_id)\n",
    "        ]\n",
    "    })"
   ]
  },
  {
   "cell_type": "markdown",
   "id": "dfe82326",
   "metadata": {},
   "source": [
    "### worker"
   ]
  },
  {
   "cell_type": "code",
   "execution_count": 5,
   "id": "36591e6e",
   "metadata": {},
   "outputs": [],
   "source": [
    "prompt = (\n",
    "    \"You are a data analyst. Use your tools to explore and load datasets relevant to the task.\\n\"\n",
    "    \"The files you need to load are in the subdirectory at ./LLM_data\\n\"\n",
    "    \"Datasets are stored as `file_name.parquet`\\n\\n\"\n",
    "    \"You can check which datasets are currently loaded with the `list_inmemory_datasets()` tool, \\\n",
    "    and which datasets are available to load using the `list_loadable_datasets()` tool.\\n\\n\"\n",
    ")"
   ]
  },
  {
   "cell_type": "code",
   "execution_count": 6,
   "id": "b386e46c",
   "metadata": {},
   "outputs": [],
   "source": [
    "from langgraph.prebuilt import create_react_agent\n",
    "from langchain_core.messages import HumanMessage\n",
    "\n",
    "model = \"openai:gpt-4o-mini\"\n",
    "\n",
    "analyst_agent = create_react_agent(\n",
    "    model=model,  # (!) OpenAI will use parallel tool calls by default - fine since we have a custom reducer\n",
    "    tools=[list_loadable_datasets,\n",
    "           list_inmemory_datasets, \n",
    "           load_dataset],\n",
    "    prompt=prompt,\n",
    "    name=\"data_analyst\",\n",
    "    state_schema=DatasetState\n",
    ")"
   ]
  },
  {
   "cell_type": "markdown",
   "id": "d45b76c5",
   "metadata": {},
   "source": [
    "### supervisor"
   ]
  },
  {
   "cell_type": "code",
   "execution_count": 7,
   "id": "29bbd678",
   "metadata": {},
   "outputs": [],
   "source": [
    "supervisor_prompt = (\n",
    "    \"You are coordinating a data analyst \\n\\n\"\n",
    "    \"When the data analyst finishes its work, you can end the workflow.\\n\"\n",
    "    \"Do not do any work yourself.\\n\"\n",
    ")"
   ]
  },
  {
   "cell_type": "code",
   "execution_count": 8,
   "id": "c06ce777",
   "metadata": {},
   "outputs": [],
   "source": [
    "from langgraph_supervisor import create_supervisor\n",
    "from langchain.chat_models import init_chat_model\n",
    "\n",
    "supervisor = create_supervisor(\n",
    "    model=init_chat_model(\"openai:gpt-3.5-turbo\"),    \n",
    "    agents=[analyst_agent],\n",
    "    prompt=supervisor_prompt,\n",
    "    state_schema=DatasetState,  # (!) don't forget this\n",
    "    add_handoff_back_messages=True,\n",
    "    output_mode=\"full_history\"\n",
    ").compile()"
   ]
  },
  {
   "cell_type": "markdown",
   "id": "4959d133",
   "metadata": {},
   "source": [
    "### graph structure"
   ]
  },
  {
   "cell_type": "code",
   "execution_count": 9,
   "id": "94cbb2ab",
   "metadata": {},
   "outputs": [
    {
     "data": {
      "image/png": "[encoded data removed]",
      "text/plain": [
       "<IPython.core.display.Image object>"
      ]
     },
     "metadata": {},
     "output_type": "display_data"
    }
   ],
   "source": [
    "from IPython.display import display, Image\n",
    "\n",
    "display(Image(supervisor.get_graph().draw_mermaid_png()))"
   ]
  },
  {
   "cell_type": "markdown",
   "id": "722dfe5e",
   "metadata": {},
   "source": [
    "## User Interface"
   ]
  },
  {
   "cell_type": "markdown",
   "id": "fbd14f93",
   "metadata": {},
   "source": [
    "We need the `langgraph-cli` package to continue:"
   ]
  },
  {
   "cell_type": "code",
   "execution_count": null,
   "id": "80198729",
   "metadata": {},
   "outputs": [],
   "source": [
    "%pip install langgraph-cli -q -U"
   ]
  },
  {
   "cell_type": "markdown",
   "id": "5837bd85",
   "metadata": {},
   "source": [
    "We also need to write a `langgraph.json` file in our directory. We can add many features to the CLI, but the basics are enough for now, so we'll just have the json with:"
   ]
  },
  {
   "cell_type": "markdown",
   "id": "0e023d82",
   "metadata": {},
   "source": [
    "```\n",
    "{\n",
    "  \"dependencies\": [\".\"],\n",
    "  \"graphs\": {\n",
    "    \"chat\": \"./chat/graph.py:graph\"\n",
    "  }\n",
    "}\n",
    "```"
   ]
  },
  {
   "cell_type": "markdown",
   "id": "acba92ca",
   "metadata": {},
   "source": [
    "Ok, now the important stuff: this UI has no integration with jupyter notebooks. So we need to refactor the code into files: we'll do that inside the `AgentChatUI/` folder. \n",
    "\n",
    "Also, and this is the very jey point, we need to **make our code a python project**. Otherwise the `langgraph dev` command won't execute. \n",
    "\n",
    "There are some steps to follow in order to do so:\n",
    "\n",
    "-----\n",
    "\n",
    "### **Steps to Structure Your LangGraph Project as a Python Package**\n",
    "\n",
    "-----\n",
    "\n",
    "#### 1. Put All Your Code in a Package Folder\n",
    "\n",
    "Create a dedicated folder (e.g., `agent_ui/`) that contains all your Python code.\n",
    "Include an `__init__.py` file to mark it as a package (it can be empty).\n",
    "\n",
    "**Example structure:**\n",
    "\n",
    "```\n",
    "project-root/\n",
    "├── agent_ui/\n",
    "│   ├── __init__.py\n",
    "│   ├── state.py\n",
    "│   ├── tools.py\n",
    "│   ├── supervisor.py\n",
    "│   └── ...\n",
    "├── langgraph.json\n",
    "└── pyproject.toml\n",
    "```\n",
    "\n",
    "---\n",
    "\n",
    "#### 2. Create a `pyproject.toml` File in the Root\n",
    "\n",
    "```toml\n",
    "[project]\n",
    "name = \"agent_ui\"\n",
    "version = \"0.1.0\"\n",
    "description = \"LangGraph agent project\"\n",
    "dependencies = []\n",
    "\n",
    "[build-system]\n",
    "requires = [\"setuptools\"]\n",
    "build-backend = \"setuptools.build_meta\"\n",
    "```\n",
    "\n",
    "---\n",
    "\n",
    "#### 3. Install the Project in Editable Mode\n",
    "\n",
    "From the root directory, run:\n",
    "\n",
    "```bash\n",
    "pip install -e .\n",
    "```\n",
    "\n",
    "This allows Python (and LangGraph CLI) to resolve imports correctly.\n",
    "\n",
    "---\n",
    "\n",
    "#### 4. Use Absolute Imports Within the Package\n",
    "\n",
    "Instead of local imports like:\n",
    "\n",
    "```python\n",
    "from state import DatasetState\n",
    "```\n",
    "\n",
    "Use:\n",
    "\n",
    "```python\n",
    "from agent_ui.state import DatasetState\n",
    "```\n",
    "\n",
    "---\n",
    "\n",
    "#### 5. Update `langgraph.json` to Point to the Correct Graph\n",
    "\n",
    "```json\n",
    "{\n",
    "  \"dependencies\": [\".\"],\n",
    "  \"graphs\": {\n",
    "    \"chat\": \"agent_ui.supervisor:supervisor\"\n",
    "  }\n",
    "}\n",
    "```\n",
    "\n",
    "This tells LangGraph CLI to look for the compiled graph in your package.\n",
    "\n",
    "---\n",
    "\n",
    "#### 6. Run LangGraph Dev Server\n",
    "\n",
    "From the root:\n",
    "\n",
    "```bash\n",
    "langgraph dev \n",
    "```\n",
    "\n",
    "\n",
    "-----"
   ]
  },
  {
   "cell_type": "markdown",
   "id": "ff930c80",
   "metadata": {},
   "source": [
    "Once this is working, we will get a link to a browser window where our graph is running!"
   ]
  }
 ],
 "metadata": {
  "kernelspec": {
   "display_name": "AgentUI",
   "language": "python",
   "name": "python3"
  },
  "language_info": {
   "codemirror_mode": {
    "name": "ipython",
    "version": 3
   },
   "file_extension": ".py",
   "mimetype": "text/x-python",
   "name": "python",
   "nbconvert_exporter": "python",
   "pygments_lexer": "ipython3",
   "version": "3.11.13"
  }
 },
 "nbformat": 4,
 "nbformat_minor": 5
}
