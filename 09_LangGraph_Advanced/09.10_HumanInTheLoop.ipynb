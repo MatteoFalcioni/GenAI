{
 "cells": [
  {
   "cell_type": "markdown",
   "id": "93da4f27",
   "metadata": {},
   "source": [
    "# Here we'll study interrupt and resuming"
   ]
  }
 ],
 "metadata": {
  "language_info": {
   "name": "python"
  }
 },
 "nbformat": 4,
 "nbformat_minor": 5
}
