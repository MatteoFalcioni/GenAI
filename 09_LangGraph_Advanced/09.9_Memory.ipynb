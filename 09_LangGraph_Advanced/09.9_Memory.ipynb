{
 "cells": [
  {
   "cell_type": "markdown",
   "id": "03d13cca",
   "metadata": {},
   "source": [
    "# Memory In LangGraph\n"
   ]
  },
  {
   "cell_type": "markdown",
   "id": "1f676b8e",
   "metadata": {},
   "source": [
    "A very important feature of agentic system is remembering past chat history. \n",
    "\n",
    "LangGraph provides several ways of doing so - both in runtime memory and databases. \n",
    "\n",
    "We will explore both options, while also studying useful practises to avoid clogging message history with two many messages.\n",
    "\n",
    "----\n",
    "References:\n",
    "- https://langchain-ai.github.io/langgraph/how-tos/memory/add-memory/\n",
    "- https://langchain-ai.github.io/langgraph/concepts/persistence/#persistence\n",
    "\n",
    "----"
   ]
  },
  {
   "cell_type": "markdown",
   "id": "da44ebf8",
   "metadata": {},
   "source": [
    "## 1. Short Term Memory\n",
    "\n",
    "The easiest way to add memory to your LangGraph project is by using `InMemorySaver`. \n",
    "\n",
    "In order to do so, we just need to \n",
    "\n",
    "1. instantiate an instance of `InMemorySaver()` and then pass it as the `checkpointer` param in `.compile()`;\n",
    "2. Pass a `thread_id` in graph config, which allows us to identify which conversation we are accessing. "
   ]
  },
  {
   "cell_type": "markdown",
   "id": "f872d244",
   "metadata": {},
   "source": [
    "So let's use the checkpointer first:"
   ]
  },
  {
   "cell_type": "code",
   "execution_count": 1,
   "id": "56e76d95",
   "metadata": {},
   "outputs": [
    {
     "data": {
      "image/png": "[encoded data removed]",
      "text/plain": [
       "<IPython.core.display.Image object>"
      ]
     },
     "metadata": {},
     "output_type": "display_data"
    }
   ],
   "source": [
    "from langgraph.checkpoint.memory import InMemorySaver\n",
    "\n",
    "from IPython.display import Image, display\n",
    "from langgraph.graph import MessagesState\n",
    "from langgraph.graph import StateGraph, START, END\n",
    "\n",
    "from langchain_openai import ChatOpenAI\n",
    "from dotenv import load_dotenv\n",
    "\n",
    "checkpointer = InMemorySaver()\n",
    "\n",
    "# llm\n",
    "load_dotenv(\"envs/.env\")\n",
    "llm = ChatOpenAI(model=\"gpt-4o\")\n",
    "\n",
    "# Node\n",
    "def chat_model_node(state: MessagesState):\n",
    "    return {\"messages\": llm.invoke(state[\"messages\"])}\n",
    "\n",
    "# Build graph\n",
    "builder = StateGraph(MessagesState)\n",
    "builder.add_node(\"chat_model\", chat_model_node)\n",
    "builder.add_edge(START, \"chat_model\")\n",
    "builder.add_edge(\"chat_model\", END)\n",
    "graph = builder.compile(checkpointer=checkpointer)\n",
    "\n",
    "# View\n",
    "display(Image(graph.get_graph().draw_mermaid_png()))\n"
   ]
  },
  {
   "cell_type": "markdown",
   "id": "499c316b",
   "metadata": {},
   "source": [
    "And then we pass a thread id at graph invocation: "
   ]
  },
  {
   "cell_type": "code",
   "execution_count": 2,
   "id": "92d7729c",
   "metadata": {},
   "outputs": [],
   "source": [
    "from langchain_core.messages import HumanMessage\n",
    "\n",
    "input_state = {\"messages\": [HumanMessage(content=\"Hello, I am Matteo.\")]}"
   ]
  },
  {
   "cell_type": "code",
   "execution_count": 3,
   "id": "14657679",
   "metadata": {},
   "outputs": [
    {
     "name": "stdout",
     "output_type": "stream",
     "text": [
      "================================\u001b[1m Human Message \u001b[0m=================================\n",
      "\n",
      "Hello, I am Matteo.\n",
      "==================================\u001b[1m Ai Message \u001b[0m==================================\n",
      "\n",
      "Hello, Matteo! How can I assist you today?\n"
     ]
    }
   ],
   "source": [
    "result= graph.invoke(input_state, config={\"configurable\" : {\"thread_id\" : 1}})\n",
    "for m in result['messages']:\n",
    "    m.pretty_print()"
   ]
  },
  {
   "cell_type": "markdown",
   "id": "b10b4ddb",
   "metadata": {},
   "source": [
    "Will it remember who I am?"
   ]
  },
  {
   "cell_type": "code",
   "execution_count": 4,
   "id": "aaa77aed",
   "metadata": {},
   "outputs": [
    {
     "name": "stdout",
     "output_type": "stream",
     "text": [
      "================================\u001b[1m Human Message \u001b[0m=================================\n",
      "\n",
      "Hello, I am Matteo.\n",
      "==================================\u001b[1m Ai Message \u001b[0m==================================\n",
      "\n",
      "Hello, Matteo! How can I assist you today?\n",
      "================================\u001b[1m Human Message \u001b[0m=================================\n",
      "\n",
      "Hello, what is my name?\n",
      "==================================\u001b[1m Ai Message \u001b[0m==================================\n",
      "\n",
      "You mentioned that your name is Matteo.\n"
     ]
    }
   ],
   "source": [
    "result= graph.invoke(\n",
    "    input=\n",
    "    {\n",
    "        \"messages\": [HumanMessage(content=\"Hello, what is my name?\")]\n",
    "    },\n",
    "    config=\n",
    "    {\n",
    "        \"configurable\" : {\"thread_id\" : 1}\n",
    "    }\n",
    ")\n",
    "for m in result['messages']:\n",
    "    m.pretty_print()"
   ]
  },
  {
   "cell_type": "markdown",
   "id": "52010ba9",
   "metadata": {},
   "source": [
    "Super easy right?"
   ]
  },
  {
   "cell_type": "markdown",
   "id": "a0559f33",
   "metadata": {},
   "source": [
    "## 2. Long Term Memory\n",
    "\n"
   ]
  },
  {
   "cell_type": "markdown",
   "id": "6ef37b94",
   "metadata": {},
   "source": [
    "What if we want our Chatbot to have memory that persists indefinitely?"
   ]
  },
  {
   "cell_type": "markdown",
   "id": "9ebbb07f",
   "metadata": {},
   "source": [
    "Now, we'll introduce some [more advanced checkpointers](https://langchain-ai.github.io/langgraph/how-tos/memory/add-memory/#use-in-production) that support external databases."
   ]
  },
  {
   "cell_type": "markdown",
   "id": "e39a465b",
   "metadata": {},
   "source": [
    "A good starting point here is the SqliteSaver checkpointer. Sqlite is a small, fast, highly popular SQL database."
   ]
  },
  {
   "cell_type": "code",
   "execution_count": 5,
   "id": "9c488928",
   "metadata": {},
   "outputs": [
    {
     "name": "stdout",
     "output_type": "stream",
     "text": [
      "Note: you may need to restart the kernel to use updated packages.\n"
     ]
    }
   ],
   "source": [
    "%pip install --quiet -U langgraph-checkpoint-sqlite"
   ]
  },
  {
   "cell_type": "markdown",
   "id": "2c9df90e",
   "metadata": {},
   "source": [
    "If we supply `\":memory:\"` it creates an in-memory Sqlite database."
   ]
  },
  {
   "cell_type": "code",
   "execution_count": 6,
   "id": "997c918e",
   "metadata": {},
   "outputs": [],
   "source": [
    "import sqlite3\n",
    "# In memory\n",
    "conn = sqlite3.connect(\":memory:\", check_same_thread = False)"
   ]
  },
  {
   "cell_type": "markdown",
   "id": "5e0608db",
   "metadata": {},
   "source": [
    "\n",
    "But, if we supply a db path, then it will create a database for us!"
   ]
  },
  {
   "cell_type": "code",
   "execution_count": 7,
   "id": "7b52df37",
   "metadata": {},
   "outputs": [],
   "source": [
    "# Here is our checkpointer \n",
    "from langgraph.checkpoint.sqlite import SqliteSaver  # sync saver\n",
    "\n",
    "# Create a checkpoint saver that uses SQLite\n",
    "conn = sqlite3.connect(\"example_db/checkpoints.db\", check_same_thread=False)\n",
    "longterm_memory = SqliteSaver(conn)"
   ]
  },
  {
   "cell_type": "markdown",
   "id": "8a0b7934",
   "metadata": {},
   "source": [
    "> **Note:** if you already had a database and wanted to use the existing one: \n",
    ">\n",
    ">```python\n",
    ">conn = sqlite3.connect(<db_path>, check_same_thread=False)\n",
    ">memory = SqliteSaver(conn)\n",
    ">```"
   ]
  },
  {
   "cell_type": "markdown",
   "id": "355815fe",
   "metadata": {},
   "source": [
    "Now, we just re-compile with our sqlite checkpointer."
   ]
  },
  {
   "cell_type": "code",
   "execution_count": 8,
   "id": "fe874189",
   "metadata": {},
   "outputs": [
    {
     "data": {
      "image/png": "[encoded data removed]",
      "text/plain": [
       "<IPython.core.display.Image object>"
      ]
     },
     "metadata": {},
     "output_type": "display_data"
    }
   ],
   "source": [
    "from IPython.display import Image, display\n",
    "from langgraph.graph import StateGraph, START\n",
    "\n",
    "# Define a new graph\n",
    "workflow = StateGraph(MessagesState)\n",
    "workflow.add_node(\"conversation\", chat_model_node)\n",
    "\n",
    "# Set the entrypoint as conversation\n",
    "workflow.add_edge(START, \"conversation\")\n",
    "workflow.add_edge(\"conversation\", END)\n",
    "\n",
    "# Compile\n",
    "graph = workflow.compile(checkpointer=longterm_memory)\n",
    "display(Image(graph.get_graph().draw_mermaid_png()))"
   ]
  },
  {
   "cell_type": "markdown",
   "id": "c5171710",
   "metadata": {},
   "source": [
    "Now, we can invoke the graph several times."
   ]
  },
  {
   "cell_type": "code",
   "execution_count": 9,
   "id": "5f007fab",
   "metadata": {},
   "outputs": [
    {
     "name": "stdout",
     "output_type": "stream",
     "text": [
      "==================================\u001b[1m Ai Message \u001b[0m==================================\n",
      "\n",
      "Hello, Matteo! How can I assist you today?\n",
      "==================================\u001b[1m Ai Message \u001b[0m==================================\n",
      "\n",
      "You mentioned that your name is Matteo. How can I help you further?\n",
      "==================================\u001b[1m Ai Message \u001b[0m==================================\n",
      "\n",
      "That's great to hear, Matteo! What field do you research in?\n"
     ]
    }
   ],
   "source": [
    "# Create a thread\n",
    "config = {\"configurable\": {\"thread_id\": \"1\"}}\n",
    "\n",
    "# Start conversation\n",
    "input_message = HumanMessage(content=\"hi! I'm Matteo\")\n",
    "output = graph.invoke({\"messages\": [input_message]}, config) \n",
    "for m in output['messages'][-1:]:\n",
    "    m.pretty_print()\n",
    "\n",
    "input_message = HumanMessage(content=\"what's my name?\")\n",
    "output = graph.invoke({\"messages\": [input_message]}, config) \n",
    "for m in output['messages'][-1:]:\n",
    "    m.pretty_print()\n",
    "\n",
    "input_message = HumanMessage(content=\"I am a researcher :)\")\n",
    "output = graph.invoke({\"messages\": [input_message]}, config) \n",
    "for m in output['messages'][-1:]:\n",
    "    m.pretty_print()"
   ]
  },
  {
   "cell_type": "markdown",
   "id": "8a5b459d",
   "metadata": {},
   "source": [
    "## 3. Memory Management\n",
    "\n",
    "Mmeory is great, but tokens are expensive. What if our model builds up a chat history of hundred of thousands of token? \n",
    "\n",
    "This would both slow down our model, and rip a whole in our wallet at each run.\n",
    "\n",
    "Luckily we have several ways to manage that."
   ]
  },
  {
   "cell_type": "markdown",
   "id": "ef443d1e",
   "metadata": {},
   "source": [
    "### 3.1 Using `RemoveMessage` \n",
    "\n",
    "One way of filtering input messages from chat history is by using the `RemoveMessage` object. \n",
    "\n",
    "In order to do so, we need to also specify messages id for our messages. "
   ]
  },
  {
   "cell_type": "markdown",
   "id": "64666fb9",
   "metadata": {},
   "source": []
  }
 ],
 "metadata": {
  "kernelspec": {
   "display_name": "openAI",
   "language": "python",
   "name": "python3"
  },
  "language_info": {
   "codemirror_mode": {
    "name": "ipython",
    "version": 3
   },
   "file_extension": ".py",
   "mimetype": "text/x-python",
   "name": "python",
   "nbconvert_exporter": "python",
   "pygments_lexer": "ipython3",
   "version": "3.10.18"
  }
 },
 "nbformat": 4,
 "nbformat_minor": 5
}
