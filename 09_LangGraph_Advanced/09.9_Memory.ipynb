{
 "cells": [
  {
   "cell_type": "markdown",
   "id": "03d13cca",
   "metadata": {},
   "source": [
    "# Memory In LangGraph\n"
   ]
  },
  {
   "cell_type": "markdown",
   "id": "1f676b8e",
   "metadata": {},
   "source": [
    "A very important feature of agentic system is remembering past chat history. \n",
    "\n",
    "LangGraph provides several ways of doing so - both in runtime memory and databases. \n",
    "\n",
    "We will explore both options, while also studying useful practises to avoid clogging message history with two many messages.\n",
    "\n",
    "----\n",
    "References:\n",
    "- https://langchain-ai.github.io/langgraph/how-tos/memory/add-memory/\n",
    "- https://langchain-ai.github.io/langgraph/concepts/persistence/#persistence\n",
    "- https://github.com/langchain-ai/langchain-academy/tree/main/module-2\n",
    "\n",
    "----"
   ]
  },
  {
   "cell_type": "markdown",
   "id": "da44ebf8",
   "metadata": {},
   "source": [
    "## 1. Short Term Memory\n",
    "\n",
    "The easiest way to add memory to your LangGraph project is by using `InMemorySaver`. \n",
    "\n",
    "In order to do so, we just need to \n",
    "\n",
    "1. instantiate an instance of `InMemorySaver()` and then pass it as the `checkpointer` param in `.compile()`;\n",
    "2. Pass a `thread_id` in graph config, which allows us to identify which conversation we are accessing. "
   ]
  },
  {
   "cell_type": "markdown",
   "id": "f872d244",
   "metadata": {},
   "source": [
    "So let's use the checkpointer first:"
   ]
  },
  {
   "cell_type": "code",
   "execution_count": 10,
   "id": "56e76d95",
   "metadata": {},
   "outputs": [
    {
     "data": {
      "image/png": "[encoded data removed]",
      "text/plain": [
       "<IPython.core.display.Image object>"
      ]
     },
     "metadata": {},
     "output_type": "display_data"
    }
   ],
   "source": [
    "from langgraph.checkpoint.memory import InMemorySaver\n",
    "\n",
    "from IPython.display import Image, display\n",
    "from langgraph.graph import MessagesState\n",
    "from langgraph.graph import StateGraph, START, END\n",
    "\n",
    "from langchain_openai import ChatOpenAI\n",
    "from dotenv import load_dotenv\n",
    "\n",
    "checkpointer = InMemorySaver()\n",
    "\n",
    "# llm\n",
    "load_dotenv(\"envs/.env\")\n",
    "llm = ChatOpenAI(model=\"gpt-4o\")\n",
    "\n",
    "# Node\n",
    "def chat_model_node(state: MessagesState):\n",
    "    return {\"messages\": llm.invoke(state[\"messages\"])}\n",
    "\n",
    "# Build graph\n",
    "builder = StateGraph(MessagesState)\n",
    "builder.add_node(\"chat_model\", chat_model_node)\n",
    "builder.add_edge(START, \"chat_model\")\n",
    "builder.add_edge(\"chat_model\", END)\n",
    "graph = builder.compile(checkpointer=checkpointer)\n",
    "\n",
    "# View\n",
    "display(Image(graph.get_graph().draw_mermaid_png()))\n"
   ]
  },
  {
   "cell_type": "markdown",
   "id": "499c316b",
   "metadata": {},
   "source": [
    "And then we pass a thread id at graph invocation: "
   ]
  },
  {
   "cell_type": "code",
   "execution_count": 11,
   "id": "92d7729c",
   "metadata": {},
   "outputs": [],
   "source": [
    "from langchain_core.messages import HumanMessage\n",
    "\n",
    "input_state = {\"messages\": [HumanMessage(content=\"Hello, I am Matteo.\")]}"
   ]
  },
  {
   "cell_type": "code",
   "execution_count": 12,
   "id": "14657679",
   "metadata": {},
   "outputs": [
    {
     "name": "stdout",
     "output_type": "stream",
     "text": [
      "================================\u001b[1m Human Message \u001b[0m=================================\n",
      "\n",
      "Hello, I am Matteo.\n",
      "==================================\u001b[1m Ai Message \u001b[0m==================================\n",
      "\n",
      "Hello, Matteo! How can I assist you today?\n"
     ]
    }
   ],
   "source": [
    "result= graph.invoke(input_state, config={\"configurable\" : {\"thread_id\" : 1}})\n",
    "for m in result['messages']:\n",
    "    m.pretty_print()"
   ]
  },
  {
   "cell_type": "markdown",
   "id": "b10b4ddb",
   "metadata": {},
   "source": [
    "Will it remember who I am?"
   ]
  },
  {
   "cell_type": "code",
   "execution_count": 13,
   "id": "aaa77aed",
   "metadata": {},
   "outputs": [
    {
     "name": "stdout",
     "output_type": "stream",
     "text": [
      "================================\u001b[1m Human Message \u001b[0m=================================\n",
      "\n",
      "Hello, I am Matteo.\n",
      "==================================\u001b[1m Ai Message \u001b[0m==================================\n",
      "\n",
      "Hello, Matteo! How can I assist you today?\n",
      "================================\u001b[1m Human Message \u001b[0m=================================\n",
      "\n",
      "Hello, what is my name?\n",
      "==================================\u001b[1m Ai Message \u001b[0m==================================\n",
      "\n",
      "You mentioned that your name is Matteo. How can I help you today?\n"
     ]
    }
   ],
   "source": [
    "result= graph.invoke(\n",
    "    input=\n",
    "    {\n",
    "        \"messages\": [HumanMessage(content=\"Hello, what is my name?\")]\n",
    "    },\n",
    "    config=\n",
    "    {\n",
    "        \"configurable\" : {\"thread_id\" : 1}\n",
    "    }\n",
    ")\n",
    "for m in result['messages']:\n",
    "    m.pretty_print()"
   ]
  },
  {
   "cell_type": "markdown",
   "id": "52010ba9",
   "metadata": {},
   "source": [
    "Super easy right?"
   ]
  },
  {
   "cell_type": "markdown",
   "id": "a0559f33",
   "metadata": {},
   "source": [
    "## 2. Long Term Memory\n",
    "\n"
   ]
  },
  {
   "cell_type": "markdown",
   "id": "6ef37b94",
   "metadata": {},
   "source": [
    "What if we want our Chatbot to have memory that persists indefinitely?"
   ]
  },
  {
   "cell_type": "markdown",
   "id": "9ebbb07f",
   "metadata": {},
   "source": [
    "Now, we'll introduce some [more advanced checkpointers](https://langchain-ai.github.io/langgraph/how-tos/memory/add-memory/#use-in-production) that support external databases."
   ]
  },
  {
   "cell_type": "markdown",
   "id": "e39a465b",
   "metadata": {},
   "source": [
    "A good starting point here is the SqliteSaver checkpointer. Sqlite is a small, fast, highly popular SQL database."
   ]
  },
  {
   "cell_type": "code",
   "execution_count": 14,
   "id": "9c488928",
   "metadata": {},
   "outputs": [
    {
     "name": "stdout",
     "output_type": "stream",
     "text": [
      "Note: you may need to restart the kernel to use updated packages.\n"
     ]
    }
   ],
   "source": [
    "%pip install --quiet -U langgraph-checkpoint-sqlite"
   ]
  },
  {
   "cell_type": "markdown",
   "id": "2c9df90e",
   "metadata": {},
   "source": [
    "If we supply `\":memory:\"` it creates an in-memory Sqlite database."
   ]
  },
  {
   "cell_type": "code",
   "execution_count": 15,
   "id": "997c918e",
   "metadata": {},
   "outputs": [],
   "source": [
    "import sqlite3\n",
    "# In memory\n",
    "conn = sqlite3.connect(\":memory:\", check_same_thread = False)"
   ]
  },
  {
   "cell_type": "markdown",
   "id": "5e0608db",
   "metadata": {},
   "source": [
    "\n",
    "But, if we supply a db path, then it will create a database for us!"
   ]
  },
  {
   "cell_type": "code",
   "execution_count": 16,
   "id": "7b52df37",
   "metadata": {},
   "outputs": [],
   "source": [
    "# Here is our checkpointer \n",
    "from langgraph.checkpoint.sqlite import SqliteSaver  # sync saver\n",
    "\n",
    "# Create a checkpoint saver that uses SQLite\n",
    "conn = sqlite3.connect(\"example_db/checkpoints.db\", check_same_thread=False)\n",
    "longterm_memory = SqliteSaver(conn)"
   ]
  },
  {
   "cell_type": "markdown",
   "id": "8a0b7934",
   "metadata": {},
   "source": [
    "> **Note:** if you already had a database and wanted to use the existing one: \n",
    ">\n",
    ">```python\n",
    ">conn = sqlite3.connect(<db_path>, check_same_thread=False)\n",
    ">memory = SqliteSaver(conn)\n",
    ">```"
   ]
  },
  {
   "cell_type": "markdown",
   "id": "355815fe",
   "metadata": {},
   "source": [
    "Now, we just re-compile with our sqlite checkpointer."
   ]
  },
  {
   "cell_type": "code",
   "execution_count": 17,
   "id": "fe874189",
   "metadata": {},
   "outputs": [
    {
     "data": {
      "image/png": "[encoded data removed]",
      "text/plain": [
       "<IPython.core.display.Image object>"
      ]
     },
     "metadata": {},
     "output_type": "display_data"
    }
   ],
   "source": [
    "from IPython.display import Image, display\n",
    "from langgraph.graph import StateGraph, START\n",
    "\n",
    "# Define a new graph\n",
    "workflow = StateGraph(MessagesState)\n",
    "workflow.add_node(\"conversation\", chat_model_node)\n",
    "\n",
    "# Set the entrypoint as conversation\n",
    "workflow.add_edge(START, \"conversation\")\n",
    "workflow.add_edge(\"conversation\", END)\n",
    "\n",
    "# Compile\n",
    "graph = workflow.compile(checkpointer=longterm_memory)\n",
    "display(Image(graph.get_graph().draw_mermaid_png()))"
   ]
  },
  {
   "cell_type": "markdown",
   "id": "c5171710",
   "metadata": {},
   "source": [
    "Now, we can invoke the graph several times."
   ]
  },
  {
   "cell_type": "code",
   "execution_count": 18,
   "id": "5f007fab",
   "metadata": {},
   "outputs": [
    {
     "name": "stdout",
     "output_type": "stream",
     "text": [
      "==================================\u001b[1m Ai Message \u001b[0m==================================\n",
      "\n",
      "Hello again, Matteo! How can I assist you today?\n",
      "==================================\u001b[1m Ai Message \u001b[0m==================================\n",
      "\n",
      "You mentioned that your name is Matteo. How can I help you today?\n",
      "==================================\u001b[1m Ai Message \u001b[0m==================================\n",
      "\n",
      "That's wonderful, Matteo! What area do you specialize in for your research?\n"
     ]
    }
   ],
   "source": [
    "# Create a thread\n",
    "config = {\"configurable\": {\"thread_id\": \"1\"}}\n",
    "\n",
    "# Start conversation\n",
    "input_message = HumanMessage(content=\"hi! I'm Matteo\")\n",
    "output = graph.invoke({\"messages\": [input_message]}, config) \n",
    "for m in output['messages'][-1:]:\n",
    "    m.pretty_print()\n",
    "\n",
    "input_message = HumanMessage(content=\"what's my name?\")\n",
    "output = graph.invoke({\"messages\": [input_message]}, config) \n",
    "for m in output['messages'][-1:]:\n",
    "    m.pretty_print()\n",
    "\n",
    "input_message = HumanMessage(content=\"I am a researcher :)\")\n",
    "output = graph.invoke({\"messages\": [input_message]}, config) \n",
    "for m in output['messages'][-1:]:\n",
    "    m.pretty_print()"
   ]
  },
  {
   "cell_type": "markdown",
   "id": "8a5b459d",
   "metadata": {},
   "source": [
    "## 3. Memory Management\n",
    "\n",
    "Mmeory is great, but tokens are expensive. What if our model builds up a chat history of hundred of thousands of token? \n",
    "\n",
    "This would both slow down our model, and rip a whole in our wallet at each run.\n",
    "\n",
    "Luckily we have several ways to manage that."
   ]
  },
  {
   "cell_type": "markdown",
   "id": "ef443d1e",
   "metadata": {},
   "source": [
    "### 3.1 Using `RemoveMessage` \n",
    "\n",
    "One way of filtering input messages from chat history is by using the `RemoveMessage` object. \n",
    "\n",
    "This works when using the `MessagesState` class - i.e., almost in every application, at least if we want our model to have a chatbot-like structure.  \n",
    "\n",
    "It works with messages state because it leverages the reducer `add_messages`, which is built in in `MessagesState`.\n",
    "Specifically, we need to combine our reducer with the `id` parameter that we can specify in messages."
   ]
  },
  {
   "cell_type": "markdown",
   "id": "64666fb9",
   "metadata": {},
   "source": [
    "#### Message id"
   ]
  },
  {
   "cell_type": "markdown",
   "id": "9a220484",
   "metadata": {},
   "source": [
    "The `id` field can be used to both **rewrite** messages or delete messages. "
   ]
  },
  {
   "cell_type": "markdown",
   "id": "60c48984",
   "metadata": {},
   "source": [
    "**To rewrite:**"
   ]
  },
  {
   "cell_type": "markdown",
   "id": "e3a7fb3a",
   "metadata": {},
   "source": [
    "If we pass a message with the same ID as an existing one in our messages list, it will get overwritten!"
   ]
  },
  {
   "cell_type": "code",
   "execution_count": 19,
   "id": "d322ff2e",
   "metadata": {},
   "outputs": [
    {
     "data": {
      "text/plain": [
       "[AIMessage(content='Hello! How can I assist you?', additional_kwargs={}, response_metadata={}, name='Model', id='1'),\n",
       " HumanMessage(content=\"I'm looking for information on whales, specifically\", additional_kwargs={}, response_metadata={}, name='Lance', id='2')]"
      ]
     },
     "execution_count": 19,
     "metadata": {},
     "output_type": "execute_result"
    }
   ],
   "source": [
    "from langgraph.graph.message import add_messages\n",
    "from langchain_core.messages import AIMessage, HumanMessage\n",
    "\n",
    "# Initial state\n",
    "initial_messages = [AIMessage(content=\"Hello! How can I assist you?\", name=\"Model\", id=\"1\"),\n",
    "                    HumanMessage(content=\"I'm looking for information on marine biology.\", name=\"Lance\", id=\"2\")\n",
    "                   ]\n",
    "\n",
    "# New message to add\n",
    "new_message = HumanMessage(content=\"I'm looking for information on whales, specifically\", name=\"Lance\", id=\"2\")\n",
    "\n",
    "# Test\n",
    "add_messages(initial_messages , new_message)"
   ]
  },
  {
   "cell_type": "markdown",
   "id": "77b8efb7",
   "metadata": {},
   "source": [
    "**To remove:**"
   ]
  },
  {
   "cell_type": "markdown",
   "id": "1bb3663c",
   "metadata": {},
   "source": [
    "we simply use [`RemoveMessage`](https://python.langchain.com/api_reference/core/messages/langchain_core.messages.modifier.RemoveMessage.html#removemessage) from `langchain_core`"
   ]
  },
  {
   "cell_type": "code",
   "execution_count": 20,
   "id": "4d417db5",
   "metadata": {},
   "outputs": [
    {
     "name": "stdout",
     "output_type": "stream",
     "text": [
      "[RemoveMessage(content='', additional_kwargs={}, response_metadata={}, id='3'), RemoveMessage(content='', additional_kwargs={}, response_metadata={}, id='4')]\n"
     ]
    }
   ],
   "source": [
    "from langchain_core.messages import RemoveMessage\n",
    "\n",
    "# Message list\n",
    "messages = [AIMessage(\"Hi.\", name=\"Bot\", id=\"1\")]\n",
    "messages.append(HumanMessage(\"Hi.\", name=\"Lance\", id=\"2\"))\n",
    "messages.append(AIMessage(\"So you said you were researching ocean mammals?\", name=\"Bot\", id=\"3\"))\n",
    "messages.append(HumanMessage(\"Yes, I know about whales. But what others should I learn about?\", name=\"Lance\", id=\"4\"))\n",
    "\n",
    "# Isolate messages to delete\n",
    "delete_messages = [RemoveMessage(id=ids) for ids in [3, 4]]\n",
    "print(delete_messages)"
   ]
  },
  {
   "cell_type": "code",
   "execution_count": 21,
   "id": "a4c346d9",
   "metadata": {},
   "outputs": [
    {
     "data": {
      "text/plain": [
       "[AIMessage(content='Hi.', additional_kwargs={}, response_metadata={}, name='Bot', id='1'),\n",
       " HumanMessage(content='Hi.', additional_kwargs={}, response_metadata={}, name='Lance', id='2')]"
      ]
     },
     "execution_count": 21,
     "metadata": {},
     "output_type": "execute_result"
    }
   ],
   "source": [
    "add_messages(messages , delete_messages)"
   ]
  },
  {
   "cell_type": "markdown",
   "id": "263abaa9",
   "metadata": {},
   "source": [
    "We can see that message IDs 3 and 4, as noted in `delete_messages` are removed by the reducer."
   ]
  },
  {
   "cell_type": "markdown",
   "id": "8cd470a8",
   "metadata": {},
   "source": [
    "So, we can use this in order to *remove specific messages from memory*, based on their id. "
   ]
  },
  {
   "cell_type": "markdown",
   "id": "0734af54",
   "metadata": {},
   "source": [
    "### 3.2 Filtering/Trimming messages"
   ]
  },
  {
   "cell_type": "markdown",
   "id": "07d08034",
   "metadata": {},
   "source": [
    "The most basic approach - and probably the least useful - is just to *filter* the the input messages list, like \n",
    "\n",
    "```python\n",
    "messages = messages[-3]    # keep only last 3 messages, blindly"
   ]
  },
  {
   "cell_type": "markdown",
   "id": "9945f0d8",
   "metadata": {},
   "source": [
    "If we want a more thoughtful approach, we can [**trim**](https://python.langchain.com/v0.2/docs/how_to/trim_messages/#getting-the-last-max_tokens-tokens) messages based on input tokens:"
   ]
  },
  {
   "cell_type": "markdown",
   "id": "2c5cb998",
   "metadata": {},
   "source": [
    "While filtering only returns a post-hoc subset of the messages between agents, trimming restricts the number of tokens that a chat model can use to respond."
   ]
  },
  {
   "cell_type": "code",
   "execution_count": 22,
   "id": "d011c28b",
   "metadata": {},
   "outputs": [],
   "source": [
    "from langchain_core.messages import trim_messages\n",
    "from langgraph.graph import MessagesState, StateGraph, START, END\n",
    "\n",
    "# Node\n",
    "def chat_model_node(state: MessagesState):\n",
    "    messages = trim_messages(\n",
    "            state[\"messages\"],\n",
    "            max_tokens=100,\n",
    "            strategy=\"last\",\n",
    "            token_counter=ChatOpenAI(model=\"gpt-4o\"),\n",
    "            allow_partial=False,\n",
    "        )\n",
    "    return {\"messages\": [llm.invoke(messages)]}\n",
    "\n",
    "# Build graph\n",
    "builder = StateGraph(MessagesState)\n",
    "builder.add_node(\"chat_model\", chat_model_node)\n",
    "builder.add_edge(START, \"chat_model\")\n",
    "builder.add_edge(\"chat_model\", END)\n",
    "graph = builder.compile()"
   ]
  },
  {
   "cell_type": "code",
   "execution_count": 36,
   "id": "43e1b374",
   "metadata": {},
   "outputs": [
    {
     "name": "stdout",
     "output_type": "stream",
     "text": [
      "==================================\u001b[1m Ai Message \u001b[0m==================================\n",
      "Name: Bot\n",
      "\n",
      "Hi.\n",
      "================================\u001b[1m Human Message \u001b[0m=================================\n",
      "Name: Lance\n",
      "\n",
      "Hi.\n",
      "==================================\u001b[1m Ai Message \u001b[0m==================================\n",
      "Name: Bot\n",
      "\n",
      "So you said you were researching ocean mammals?\n",
      "================================\u001b[1m Human Message \u001b[0m=================================\n",
      "Name: Lance\n",
      "\n",
      "Yes, I know about whales. But what others should I learn about?\n",
      "==================================\u001b[1m Ai Message \u001b[0m==================================\n",
      "\n",
      "It's great that you're interested in ocean mammals! In addition to whales, here are some other marine mammals you might want to learn about:\n",
      "\n",
      "1. **Dolphins**: These are highly intelligent and social animals known for their playful behavior. There are various species of dolphins, such as the bottlenose dolphin and the common dolphin.\n",
      "\n",
      "2. **Porpoises**: Similar to dolphins but generally smaller, porpoises have distinct differences in their body shape and behavior.\n",
      "\n",
      "3. **Seals**: These include various species such as the harbor seal and the gray seal. Seals are known for their graceful swimming abilities.\n",
      "\n",
      "4. **Sea Lions**: Often confused with seals, sea lions are more vocal and have external ear flaps, unlike true seals.\n",
      "\n",
      "5. **Walruses**: Recognizable by their long tusks, walruses are social animals found in Arctic regions.\n",
      "\n",
      "6. **Manatees and Dugongs**: Also known as sea cows, these gentle herbivores are found in warm coastal waters.\n",
      "\n",
      "7. **Otters**: While often associated with freshwater, sea otters are marine mammals and are known for their use of tools to open shellfish.\n",
      "\n",
      "8. **Polar Bears**: Although primarily land animals, they are classified as marine mammals because they spend much of their time on sea ice and hunting marine food.\n",
      "\n",
      "Each of these marine mammals has unique behaviors, adaptations, and ecological roles. They are fascinating subjects for study, especially in understanding biodiversity and conservation efforts in marine environments.\n",
      "================================\u001b[1m Human Message \u001b[0m=================================\n",
      "Name: Lance\n",
      "\n",
      "Tell me where Orcas live!\n",
      "==================================\u001b[1m Ai Message \u001b[0m==================================\n",
      "\n",
      "Orcas, also known as killer whales, are found in all of the world's oceans and can inhabit a diverse range of marine environments. Here are some key locations where orcas are commonly found:\n",
      "\n",
      "1. **Arctic and Antarctic Regions**: Orcas thrive in cold waters and are commonly seen in polar regions. They are often spotted near ice edges where they hunt for seals, fish, and other prey.\n",
      "\n",
      "2. **North Atlantic Ocean**: Orcas can be found along the coasts of Norway, Iceland, and northern Scotland. They are also present in the waters off eastern Canada and the northeastern United States.\n",
      "\n",
      "3. **North Pacific Ocean**: There is a significant population of orcas in the North Pacific, particularly around Alaska, British Columbia, and the Pacific Northwest (Washington and Oregon). They are also found around the Russian Far East, including the Kuril Islands.\n",
      "\n",
      "4. **Southern Ocean**: Orcas are seen around the waters of Antarctica and the southern parts of Australia, New Zealand, and South America.\n",
      "\n",
      "5. **Offshore and Open Oceans**: While orcas are often associated with coastlines, they are also found in offshore waters and open oceans around the world.\n",
      "\n",
      "Orcas are highly adaptable and can live in various habitats ranging from deep open seas to coastal areas. Their populations can be divided into different ecotypes, each with distinct behaviors, diets, and social structures, adapted to their specific environments.\n",
      "================================\u001b[1m Human Message \u001b[0m=================================\n",
      "Name: Lance\n",
      "\n",
      "Tell me where Orcas live!\n",
      "==================================\u001b[1m Ai Message \u001b[0m==================================\n",
      "\n",
      "Orcas, also known as killer whales, are highly adaptable marine mammals found in oceans around the world. They thrive in a variety of environments, from polar regions to tropical seas. Here are some key regions where orcas are commonly found:\n",
      "\n",
      "1. **Arctic and Antarctic Regions**: Orcas are well-adapted to cold water and can be found in the icy waters of both the Arctic and Antarctic.\n",
      "\n",
      "2. **North Atlantic Ocean**: They inhabit areas such as the waters around Norway, Iceland, the British Isles, and the eastern coast of Canada and the United States.\n",
      "\n",
      "3. **North Pacific Ocean**: Populations are found along the coasts of Alaska, British Columbia, Washington State, and down to California. They are also present in the waters around Japan and Russia's Far East.\n",
      "\n",
      "4. **Southern Ocean**: Orcas are present around the continent of Antarctica, where they hunt seals and other marine life.\n",
      "\n",
      "5. **Temperate and Tropical Regions**: While less common, orcas can also be found in warmer waters, including parts of the Indian Ocean and around islands like the Galápagos and Hawaii.\n",
      "\n",
      "Orcas are social animals often seen in groups, and different populations have distinct dietary preferences and hunting techniques. Their adaptability enables them to exploit a wide range of marine environments.\n"
     ]
    }
   ],
   "source": [
    "output = graph.invoke({'messages': messages})\n",
    "for m in output['messages']:\n",
    "    m.pretty_print()"
   ]
  },
  {
   "cell_type": "code",
   "execution_count": 37,
   "id": "b57cbdc8",
   "metadata": {},
   "outputs": [],
   "source": [
    "messages.append(output['messages'][-1])\n",
    "messages.append(HumanMessage(f\"Tell me where Orcas live!\", name=\"Lance\"))"
   ]
  },
  {
   "cell_type": "code",
   "execution_count": null,
   "id": "5d13f391",
   "metadata": {},
   "outputs": [
    {
     "data": {
      "text/plain": [
       "[AIMessage(content=\"\\n3. **North Pacific Ocean**: Populations are found along the coasts of Alaska, British Columbia, Washington State, and down to California. They are also present in the waters around Japan and Russia's Far East.\\n\\n4. **Southern Ocean**: Orcas are present around the continent of Antarctica, where they hunt seals and other marine life.\\n\\n5. **Temperate and Tropical Regions**: While less common, orcas can also be found in warmer waters, including parts of the Indian Ocean and around islands like the Galápagos and Hawaii.\\n\\nOrcas are social animals often seen in groups, and different populations have distinct dietary preferences and hunting techniques. Their adaptability enables them to exploit a wide range of marine environments.\", additional_kwargs={'refusal': None}, response_metadata={'token_usage': {'completion_tokens': 264, 'prompt_tokens': 16, 'total_tokens': 280, 'completion_tokens_details': {'accepted_prediction_tokens': 0, 'audio_tokens': 0, 'reasoning_tokens': 0, 'rejected_prediction_tokens': 0}, 'prompt_tokens_details': {'audio_tokens': 0, 'cached_tokens': 0}}, 'model_name': 'gpt-4o-2024-08-06', 'system_fingerprint': 'fp_80956533cb', 'id': 'chatcmpl-CC0eG9MKKj5jw5QWlWwPhw8f0DOSS', 'service_tier': 'default', 'finish_reason': 'stop', 'logprobs': None}, id='run--b54533f9-3757-420a-a443-0a2a882d8ba0-0', usage_metadata={'input_tokens': 16, 'output_tokens': 264, 'total_tokens': 280, 'input_token_details': {'audio': 0, 'cache_read': 0}, 'output_token_details': {'audio': 0, 'reasoning': 0}}),\n",
       " HumanMessage(content='Tell me where Orcas live!', additional_kwargs={}, response_metadata={}, name='Lance')]"
      ]
     },
     "execution_count": 38,
     "metadata": {},
     "output_type": "execute_result"
    }
   ],
   "source": [
    "# Example of trimming messages\n",
    "trim_messages(\n",
    "            messages,\n",
    "            max_tokens=200, # only last 200 tokens\n",
    "            strategy=\"last\",\n",
    "            token_counter=ChatOpenAI(model=\"gpt-4o\"),\n",
    "            allow_partial=True  # allows messages to be split \n",
    "        )"
   ]
  },
  {
   "cell_type": "markdown",
   "id": "5cfbf418",
   "metadata": {},
   "source": [
    "Check out the `trim_message` doc: https://python.langchain.com/v0.2/docs/how_to/trim_messages/#getting-the-last-max_tokens-tokens\n",
    "\n",
    "It has many useful parameters for custom trimming.\n",
    "\n",
    "It comes very handy when managing memory in order to not exceed a certain token count."
   ]
  },
  {
   "cell_type": "markdown",
   "id": "7f1a38db",
   "metadata": {},
   "source": [
    "### 3.3 llm-Based Summarization\n",
    "\n",
    "Another interesting \"trick\" to manage memory is to use an llm to summarize chat history. \n",
    "\n",
    "We just need to add a summarization node to our graph in the beginning, specifying a condition under which input messages should be summarized. For example, messages exceeding a certain token count, or simply after a certain number of messages."
   ]
  },
  {
   "cell_type": "code",
   "execution_count": 39,
   "id": "ddb91811",
   "metadata": {},
   "outputs": [],
   "source": [
    "from langgraph.graph import MessagesState\n",
    "class State(MessagesState):\n",
    "    summary: str"
   ]
  },
  {
   "cell_type": "code",
   "execution_count": 48,
   "id": "3434f1e7",
   "metadata": {},
   "outputs": [],
   "source": [
    "from langchain_core.messages import SystemMessage, HumanMessage, RemoveMessage\n",
    "from langchain_openai import ChatOpenAI\n",
    "\n",
    "model = ChatOpenAI(model=\"gpt-4o\")\n",
    "\n",
    "# Define the logic to call the model\n",
    "def call_model(state: State):\n",
    "    \n",
    "    # Get summary if it exists\n",
    "    summary = state.get(\"summary\", \"\")\n",
    "\n",
    "    # If there is summary, then we add it\n",
    "    if summary:\n",
    "        \n",
    "        # Add summary to system message\n",
    "        system_message = f\"Summary of conversation earlier: {summary}\"\n",
    "\n",
    "        # Append summary to any newer messages\n",
    "        messages = [SystemMessage(content=system_message)] + state[\"messages\"]\n",
    "    \n",
    "    else:\n",
    "        messages = state[\"messages\"]\n",
    "    \n",
    "    response = model.invoke(messages)\n",
    "    return {\"messages\": response}"
   ]
  },
  {
   "cell_type": "markdown",
   "id": "ac74d0df",
   "metadata": {},
   "source": [
    "Note, here we'll use `RemoveMessage` to filter our state after we've produced the summary."
   ]
  },
  {
   "cell_type": "code",
   "execution_count": 49,
   "id": "ff87b212",
   "metadata": {},
   "outputs": [],
   "source": [
    "def summarize_conversation(state: State):\n",
    "    \n",
    "    # First, we get any existing summary\n",
    "    summary = state.get(\"summary\", \"\")\n",
    "\n",
    "    # Create our summarization prompt \n",
    "    if summary:\n",
    "        \n",
    "        # A summary already exists\n",
    "        summary_message = (\n",
    "            f\"This is summary of the conversation to date: {summary}\\n\\n\"\n",
    "            \"Extend the summary by taking into account the new messages above:\"\n",
    "        )\n",
    "        \n",
    "    else:\n",
    "        summary_message = \"Create a summary of the conversation above:\"\n",
    "\n",
    "    # Add prompt to our history\n",
    "    messages = state[\"messages\"] + [HumanMessage(content=summary_message)]\n",
    "    response = model.invoke(messages)\n",
    "    \n",
    "    # Delete all but the 2 most recent messages\n",
    "    delete_messages = [RemoveMessage(id=m.id) for m in state[\"messages\"][:-2]]\n",
    "    return {\"summary\": response.content, \"messages\": delete_messages}"
   ]
  },
  {
   "cell_type": "markdown",
   "id": "934302c5",
   "metadata": {},
   "source": [
    "We'll add a conditional edge to determine whether to produce a summary based on the conversation length."
   ]
  },
  {
   "cell_type": "markdown",
   "id": "50be9bcb",
   "metadata": {},
   "source": [
    "For simplicity here let's summarize after we hit 3 messages"
   ]
  },
  {
   "cell_type": "code",
   "execution_count": 50,
   "id": "bddfd036",
   "metadata": {},
   "outputs": [],
   "source": [
    "from langgraph.graph import END\n",
    "from typing_extensions import Literal\n",
    "# Determine whether to end or summarize the conversation\n",
    "def should_continue(state: State) -> Literal [\"summarize_conversation\",END]:\n",
    "    \n",
    "    \"\"\"Return the next node to execute.\"\"\"\n",
    "    \n",
    "    messages = state[\"messages\"]\n",
    "    \n",
    "    # If there are more than six messages, then we summarize the conversation\n",
    "    if len(messages) > 3:\n",
    "        return \"summarize_conversation\"\n",
    "    \n",
    "    # Otherwise we can just end\n",
    "    return END"
   ]
  },
  {
   "cell_type": "markdown",
   "id": "1b38ee8d",
   "metadata": {},
   "source": [
    "We add runtime memory (we could as well do it with long term memory as we saw before)"
   ]
  },
  {
   "cell_type": "code",
   "execution_count": 51,
   "id": "3bc32690",
   "metadata": {},
   "outputs": [
    {
     "data": {
      "image/png": "[encoded data removed]",
      "text/plain": [
       "<IPython.core.display.Image object>"
      ]
     },
     "metadata": {},
     "output_type": "display_data"
    }
   ],
   "source": [
    "from IPython.display import Image, display\n",
    "from langgraph.checkpoint.memory import MemorySaver\n",
    "from langgraph.graph import StateGraph, START\n",
    "\n",
    "# Define a new graph\n",
    "workflow = StateGraph(State)\n",
    "workflow.add_node(\"conversation\", call_model)\n",
    "workflow.add_node(summarize_conversation)\n",
    "\n",
    "# Set the entrypoint as conversation\n",
    "workflow.add_edge(START, \"conversation\")\n",
    "workflow.add_conditional_edges(\"conversation\", should_continue)\n",
    "workflow.add_edge(\"summarize_conversation\", END)\n",
    "\n",
    "# Compile\n",
    "memory = MemorySaver()\n",
    "graph = workflow.compile(checkpointer=memory)\n",
    "display(Image(graph.get_graph().draw_mermaid_png()))"
   ]
  },
  {
   "cell_type": "code",
   "execution_count": 52,
   "id": "23eeec40",
   "metadata": {},
   "outputs": [
    {
     "name": "stdout",
     "output_type": "stream",
     "text": [
      "==================================\u001b[1m Ai Message \u001b[0m==================================\n",
      "\n",
      "Hello, Matteo! How can I assist you today?\n",
      "==================================\u001b[1m Ai Message \u001b[0m==================================\n",
      "\n",
      "You mentioned that your name is Matteo. How can I help you further?\n",
      "==================================\u001b[1m Ai Message \u001b[0m==================================\n",
      "\n",
      "That's great to hear! Physics is a fascinating subject that explores the fundamental principles governing the universe. Do you have any specific areas of interest within physics, or any questions you might have?\n",
      "==================================\u001b[1m Ai Message \u001b[0m==================================\n",
      "\n",
      "That's impressive! Being a researcher in physics means you're at the forefront of discovering and understanding the natural world. What area of physics are you focusing on in your research?\n"
     ]
    }
   ],
   "source": [
    "# Create a thread\n",
    "config = {\"configurable\": {\"thread_id\": \"1\"}}\n",
    "\n",
    "# Start conversation\n",
    "input_message = HumanMessage(content=\"hi! I'm Matteo\")\n",
    "output = graph.invoke({\"messages\": [input_message]}, config) \n",
    "for m in output['messages'][-1:]:\n",
    "    m.pretty_print()\n",
    "\n",
    "input_message = HumanMessage(content=\"what's my name?\")\n",
    "output = graph.invoke({\"messages\": [input_message]}, config) \n",
    "for m in output['messages'][-1:]:\n",
    "    m.pretty_print()\n",
    "\n",
    "input_message = HumanMessage(content=\"i like physics!\")\n",
    "output = graph.invoke({\"messages\": [input_message]}, config) \n",
    "for m in output['messages'][-1:]:\n",
    "    m.pretty_print()\n",
    "\n",
    "input_message = HumanMessage(content=\"I am a researcher!\")\n",
    "output = graph.invoke({\"messages\": [input_message]}, config) \n",
    "for m in output['messages'][-1:]:\n",
    "    m.pretty_print()"
   ]
  },
  {
   "cell_type": "code",
   "execution_count": 53,
   "id": "289b0fa3",
   "metadata": {},
   "outputs": [
    {
     "data": {
      "text/plain": [
       "\"Matteo shared that he is a researcher, indicating his involvement in advancing knowledge within the field of physics. The assistant acknowledged Matteo's role as a researcher and expressed interest in his specific area of focus within physics, highlighting the exciting nature of working on the cutting edge of scientific discovery.\""
      ]
     },
     "execution_count": 53,
     "metadata": {},
     "output_type": "execute_result"
    }
   ],
   "source": [
    "graph.get_state(config).values.get(\"summary\",\"\")"
   ]
  }
 ],
 "metadata": {
  "kernelspec": {
   "display_name": "openAI",
   "language": "python",
   "name": "python3"
  },
  "language_info": {
   "codemirror_mode": {
    "name": "ipython",
    "version": 3
   },
   "file_extension": ".py",
   "mimetype": "text/x-python",
   "name": "python",
   "nbconvert_exporter": "python",
   "pygments_lexer": "ipython3",
   "version": "3.10.18"
  }
 },
 "nbformat": 4,
 "nbformat_minor": 5
}
