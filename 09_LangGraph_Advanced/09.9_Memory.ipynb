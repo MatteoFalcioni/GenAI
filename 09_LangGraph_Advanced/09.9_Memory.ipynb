{
 "cells": [
  {
   "cell_type": "markdown",
   "id": "03d13cca",
   "metadata": {},
   "source": [
    "# Here we'll talk about persistence: both in a single run with InMemorySaver() and with databases like in RAGV54 w/ Chainlit"
   ]
  },
  {
   "cell_type": "code",
   "execution_count": 1,
   "id": "1f676b8e",
   "metadata": {},
   "outputs": [],
   "source": [
    "# docker "
   ]
  }
 ],
 "metadata": {
  "kernelspec": {
   "display_name": "openAI",
   "language": "python",
   "name": "python3"
  },
  "language_info": {
   "codemirror_mode": {
    "name": "ipython",
    "version": 3
   },
   "file_extension": ".py",
   "mimetype": "text/x-python",
   "name": "python",
   "nbconvert_exporter": "python",
   "pygments_lexer": "ipython3",
   "version": "3.10.18"
  }
 },
 "nbformat": 4,
 "nbformat_minor": 5
}
