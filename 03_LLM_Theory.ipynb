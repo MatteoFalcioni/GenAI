{
 "cells": [
  {
   "cell_type": "code",
   "execution_count": 1,
   "id": "35da8e80",
   "metadata": {},
   "outputs": [],
   "source": [
    "# docker"
   ]
  },
  {
   "cell_type": "markdown",
   "id": "72aecef1",
   "metadata": {},
   "source": [
    "# Theoretical Explanation of LLMs \n",
    "\n",
    "https://jalammar.github.io/illustrated-transformer/\n",
    "\n",
    "https://www.youtube.com/watch?v=wjZofJX0v4M\n",
    "\n",
    "https://arxiv.org/pdf/1706.03762"
   ]
  },
  {
   "cell_type": "markdown",
   "id": "f7589408",
   "metadata": {},
   "source": [
    "How was GPT trained? \n",
    " - Generative Pre-Training\n",
    " - Supervised Fine Tuning\n",
    " - Reinforcement Learning (cite Policy Model, Reward Model)"
   ]
  },
  {
   "cell_type": "markdown",
   "id": "0dec5889",
   "metadata": {},
   "source": []
  }
 ],
 "metadata": {
  "kernelspec": {
   "display_name": "base",
   "language": "python",
   "name": "python3"
  },
  "language_info": {
   "codemirror_mode": {
    "name": "ipython",
    "version": 3
   },
   "file_extension": ".py",
   "mimetype": "text/x-python",
   "name": "python",
   "nbconvert_exporter": "python",
   "pygments_lexer": "ipython3",
   "version": "3.12.4"
  }
 },
 "nbformat": 4,
 "nbformat_minor": 5
}
