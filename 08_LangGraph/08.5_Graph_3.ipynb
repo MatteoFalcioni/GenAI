{
 "cells": [
  {
   "cell_type": "markdown",
   "id": "fe519f34",
   "metadata": {},
   "source": [
    "# Sequential Graph\n",
    "\n",
    "Now we will:\n",
    "- Create **multiple nodes** that sequentially process and update different parts of the state;\n",
    "- Connect nodes together in a graph;\n",
    "- Invoke the graph and see how the state is transformed step-by-step."
   ]
  },
  {
   "cell_type": "code",
   "execution_count": 2,
   "id": "eea3d5bf",
   "metadata": {},
   "outputs": [],
   "source": [
    "from typing import TypedDict, List\n",
    "from langgraph.graph import StateGraph"
   ]
  },
  {
   "cell_type": "code",
   "execution_count": 3,
   "id": "d57b762a",
   "metadata": {},
   "outputs": [],
   "source": [
    "class AgentState(TypedDict):\n",
    "    name: str\n",
    "    age: str\n",
    "    final: str"
   ]
  },
  {
   "cell_type": "markdown",
   "id": "2829982c",
   "metadata": {},
   "source": [
    "now we'll build two node functions"
   ]
  },
  {
   "cell_type": "code",
   "execution_count": 4,
   "id": "d0d178fd",
   "metadata": {},
   "outputs": [],
   "source": [
    "def first_node(state: AgentState) -> AgentState:\n",
    "    \"\"\"This is the first node of our sequence\"\"\"\n",
    "\n",
    "    state['final'] = f\"Hi {state['name']}!\"\n",
    "\n",
    "def second_node(state: AgentState) -> AgentState:\n",
    "    \"\"\"This is the second node of our sequence\"\"\"\n",
    "\n",
    "    state['final'] += f\"You are {state['age']} years old!\"\n",
    "\n",
    "    return state"
   ]
  },
  {
   "cell_type": "code",
   "execution_count": 6,
   "id": "3a709f1b",
   "metadata": {},
   "outputs": [
    {
     "data": {
      "text/plain": [
       "<langgraph.graph.state.StateGraph at 0x7f5b68729a80>"
      ]
     },
     "execution_count": 6,
     "metadata": {},
     "output_type": "execute_result"
    }
   ],
   "source": [
    "# build a sequential graph (more nodes)\n",
    "\n",
    "# initialize graph\n",
    "graph = StateGraph(AgentState)\n",
    "\n",
    "# add nodes\n",
    "graph.add_node(\"first_node\",\n",
    "               first_node)\n",
    "graph.add_node(\"second_node\",\n",
    "               second_node)\n",
    "\n",
    "# entry point\n",
    "graph.set_entry_point(\"first_node\")\n",
    "\n",
    "# connect node 1 to node 2 with an edge (directed edge, 1->2)\n",
    "graph.add_edge(start_key=\"first_node\",\n",
    "               end_key=\"second_node\")\n",
    "\n",
    "# finish point\n",
    "graph.set_finish_point(\"second_node\")\n"
   ]
  },
  {
   "cell_type": "code",
   "execution_count": null,
   "id": "f85dc6d5",
   "metadata": {},
   "outputs": [],
   "source": []
  }
 ],
 "metadata": {
  "kernelspec": {
   "display_name": "openAI",
   "language": "python",
   "name": "python3"
  },
  "language_info": {
   "codemirror_mode": {
    "name": "ipython",
    "version": 3
   },
   "file_extension": ".py",
   "mimetype": "text/x-python",
   "name": "python",
   "nbconvert_exporter": "python",
   "pygments_lexer": "ipython3",
   "version": "3.10.18"
  }
 },
 "nbformat": 4,
 "nbformat_minor": 5
}
