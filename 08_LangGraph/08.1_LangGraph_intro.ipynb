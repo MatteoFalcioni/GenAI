{
 "cells": [
  {
   "cell_type": "code",
   "execution_count": null,
   "id": "02181a43",
   "metadata": {},
   "outputs": [],
   "source": [
    "# docker"
   ]
  },
  {
   "cell_type": "code",
   "execution_count": null,
   "id": "53190a4c",
   "metadata": {},
   "outputs": [],
   "source": []
  }
 ],
 "metadata": {
  "language_info": {
   "name": "python"
  }
 },
 "nbformat": 4,
 "nbformat_minor": 5
}
