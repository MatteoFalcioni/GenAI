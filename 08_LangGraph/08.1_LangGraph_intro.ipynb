{
 "cells": [
  {
   "cell_type": "markdown",
   "id": "30241700",
   "metadata": {},
   "source": [
    "<div style=\"text-align: center;\">\n",
    "  <img src=\"../images/langgraph_logo.png\" alt=\"LangGraph\" style=\"width: 50%;\">\n",
    "</div>\n"
   ]
  },
  {
   "cell_type": "markdown",
   "id": "02181a43",
   "metadata": {},
   "source": [
    "This part of the course is mainly taken from the video [LangGraph Complete Course for Beginners – Complex AI Agents with Python](https://youtu.be/jGg_1h0qzaM?si=-s-1O8327cKyk9It). \n",
    "\n",
    "It's a focus on the LangGraph framework."
   ]
  },
  {
   "cell_type": "markdown",
   "id": "53190a4c",
   "metadata": {},
   "source": [
    "# Type Annotations\n",
    "\n",
    "We will start by understanding better types, since it's a needed step in understanding well LAngGraph. \n",
    "\n",
    "Let's have a quick overview of peculiar types we are going to need."
   ]
  },
  {
   "cell_type": "markdown",
   "id": "c8c078ac",
   "metadata": {},
   "source": [
    "## Dictionaries and TypedDict\n",
    "\n",
    "Dictionaries are a classical type in python, we already know that they are composed of keys and values; for example"
   ]
  },
  {
   "cell_type": "code",
   "execution_count": 1,
   "id": "e297fe3c",
   "metadata": {},
   "outputs": [],
   "source": [
    "movie_dict = {\"name\": \"Star Wars\", \"year\": 1977}"
   ]
  },
  {
   "cell_type": "markdown",
   "id": "bfb24e32",
   "metadata": {},
   "source": [
    "Dictionaries are great, but a problem they have is that it's difficult to ensure that the data is a particular structure (a specific type), especially for larger projects. \n",
    "\n",
    "That's where Typed Dictionaries come into play:"
   ]
  },
  {
   "cell_type": "code",
   "execution_count": 4,
   "id": "9191b408",
   "metadata": {},
   "outputs": [],
   "source": [
    "from typing import TypedDict\n",
    "\n",
    "class Movie(TypedDict):\n",
    "    name: str\n",
    "    year: int\n",
    "\n",
    "movie = Movie(name=\"Avengers Endgame\", year=2019)"
   ]
  },
  {
   "cell_type": "markdown",
   "id": "4fccd9b9",
   "metadata": {},
   "source": [
    "In `TypedDict` we can actually set the types of our dictionary's entries, reducing runtime errors. \n",
    "\n",
    "`TypedDict` is a type widely used in LangGraph, since it's the type we use to define **states** (see later on)."
   ]
  },
  {
   "cell_type": "markdown",
   "id": "33a0a3d0",
   "metadata": {},
   "source": [
    "## Union \n",
    "\n",
    "Union is a type that allows for an object to be a series of different types:"
   ]
  },
  {
   "cell_type": "code",
   "execution_count": null,
   "id": "7b2c690f",
   "metadata": {},
   "outputs": [
    {
     "ename": "TypeError",
     "evalue": "can't multiply sequence by non-int of type 'str'",
     "output_type": "error",
     "traceback": [
      "\u001b[0;31m---------------------------------------------------------------------------\u001b[0m",
      "\u001b[0;31mTypeError\u001b[0m                                 Traceback (most recent call last)",
      "Cell \u001b[0;32mIn[5], line 10\u001b[0m\n\u001b[1;32m      6\u001b[0m result \u001b[38;5;241m=\u001b[39m square(x\u001b[38;5;241m=\u001b[39m\u001b[38;5;241m5\u001b[39m)\n\u001b[1;32m      8\u001b[0m result \u001b[38;5;241m=\u001b[39m square(x\u001b[38;5;241m=\u001b[39m\u001b[38;5;241m5.2\u001b[39m)\n\u001b[0;32m---> 10\u001b[0m result \u001b[38;5;241m=\u001b[39m \u001b[43msquare\u001b[49m\u001b[43m(\u001b[49m\u001b[38;5;124;43m\"\u001b[39;49m\u001b[38;5;124;43mI am a string!\u001b[39;49m\u001b[38;5;124;43m\"\u001b[39;49m\u001b[43m)\u001b[49m\n",
      "Cell \u001b[0;32mIn[5], line 4\u001b[0m, in \u001b[0;36msquare\u001b[0;34m(x)\u001b[0m\n\u001b[1;32m      3\u001b[0m \u001b[38;5;28;01mdef\u001b[39;00m\u001b[38;5;250m \u001b[39m\u001b[38;5;21msquare\u001b[39m(x: Union[\u001b[38;5;28mint\u001b[39m, \u001b[38;5;28mfloat\u001b[39m]) \u001b[38;5;241m-\u001b[39m\u001b[38;5;241m>\u001b[39m \u001b[38;5;28mfloat\u001b[39m:\n\u001b[0;32m----> 4\u001b[0m     \u001b[38;5;28;01mreturn\u001b[39;00m \u001b[43mx\u001b[49m\u001b[38;5;241;43m*\u001b[39;49m\u001b[43mx\u001b[49m\n",
      "\u001b[0;31mTypeError\u001b[0m: can't multiply sequence by non-int of type 'str'"
     ]
    }
   ],
   "source": [
    "from typing import Union\n",
    "\n",
    "def square(x: Union[int, float]) -> float:\n",
    "    return x*x\n",
    "\n",
    "result = square(x=5)\n",
    "\n",
    "result = square(x=5.2)\n",
    "\n",
    "result = square(\"I am a string!\")   # will fail "
   ]
  },
  {
   "cell_type": "markdown",
   "id": "181d60b3",
   "metadata": {},
   "source": [
    "## Optional\n",
    "\n",
    "This is a type similar to `Union`; basically the type can be what we choose or a `None` value:\n"
   ]
  },
  {
   "cell_type": "code",
   "execution_count": 8,
   "id": "5d0cb069",
   "metadata": {},
   "outputs": [
    {
     "name": "stdout",
     "output_type": "stream",
     "text": [
      "Hey random person!\n",
      "Hi there, Matteo\n"
     ]
    }
   ],
   "source": [
    "from typing import Optional \n",
    "\n",
    "def nice_message(name: Optional[str]) -> None:\n",
    "    if name is None:\n",
    "        print(\"Hey random person!\")\n",
    "    else:\n",
    "        print(f\"Hi there, {name}\")\n",
    "\n",
    "nice_message(None)\n",
    "nice_message(\"Matteo\")"
   ]
  },
  {
   "cell_type": "markdown",
   "id": "cafdd0ae",
   "metadata": {},
   "source": [
    "## Any\n",
    "\n",
    "Easy: the type can be any type"
   ]
  },
  {
   "cell_type": "code",
   "execution_count": 9,
   "id": "d64aa3c2",
   "metadata": {},
   "outputs": [],
   "source": [
    "from typing import Any\n",
    "\n",
    "def print_value(x: Any):\n",
    "    print(x)"
   ]
  },
  {
   "cell_type": "code",
   "execution_count": 10,
   "id": "35296656",
   "metadata": {},
   "outputs": [
    {
     "name": "stdout",
     "output_type": "stream",
     "text": [
      "Hi\n"
     ]
    }
   ],
   "source": [
    "print_value(\"Hi\")"
   ]
  },
  {
   "cell_type": "markdown",
   "id": "fb22a743",
   "metadata": {},
   "source": [
    "## Lambda Functions\n",
    "\n",
    "These are quite useful. Let's see some examples: "
   ]
  },
  {
   "cell_type": "code",
   "execution_count": 11,
   "id": "dcc5b1a3",
   "metadata": {},
   "outputs": [
    {
     "data": {
      "text/plain": [
       "100"
      ]
     },
     "execution_count": 11,
     "metadata": {},
     "output_type": "execute_result"
    }
   ],
   "source": [
    "square = lambda x: x*x\n",
    "square(10)"
   ]
  },
  {
   "cell_type": "code",
   "execution_count": 12,
   "id": "8ffcdaad",
   "metadata": {},
   "outputs": [],
   "source": [
    "# more complex, combine with map for lists:\n",
    "nums = [1, 2, 3, 4] \n",
    "squares = list(map(lambda x: x*x, nums))"
   ]
  },
  {
   "cell_type": "code",
   "execution_count": 13,
   "id": "d6ff34b7",
   "metadata": {},
   "outputs": [
    {
     "data": {
      "text/plain": [
       "[1, 4, 9, 16]"
      ]
     },
     "execution_count": 13,
     "metadata": {},
     "output_type": "execute_result"
    }
   ],
   "source": [
    "squares"
   ]
  }
 ],
 "metadata": {
  "kernelspec": {
   "display_name": "Python 3",
   "language": "python",
   "name": "python3"
  },
  "language_info": {
   "codemirror_mode": {
    "name": "ipython",
    "version": 3
   },
   "file_extension": ".py",
   "mimetype": "text/x-python",
   "name": "python",
   "nbconvert_exporter": "python",
   "pygments_lexer": "ipython3",
   "version": "3.10.18"
  }
 },
 "nbformat": 4,
 "nbformat_minor": 5
}
