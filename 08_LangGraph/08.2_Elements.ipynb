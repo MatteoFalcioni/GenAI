{
 "cells": [
  {
   "cell_type": "markdown",
   "id": "d36a0fd7",
   "metadata": {},
   "source": [
    "# LangGraph Elements"
   ]
  },
  {
   "cell_type": "markdown",
   "id": "ebea1ee0",
   "metadata": {},
   "source": [
    "As the name suggests, the underlying structure of LangGraph operations is a **Graph**. Therefore, the basic elements of LangGraph will be the basic elements of a graph: **states**, **nodes** and **edges**.\n",
    "\n"
   ]
  },
  {
   "cell_type": "markdown",
   "id": "eff999f7",
   "metadata": {},
   "source": [
    "<div style=\"text-align: center;\">\n",
    "  <img src=\"../images/graph.webp\" alt=\"Basic Example of a graph in LangGraph\" style=\"width: 70%;\">\n",
    "</div>\n"
   ]
  },
  {
   "cell_type": "markdown",
   "id": "07d12ce9",
   "metadata": {},
   "source": [
    "## Graph Elements\n",
    "\n",
    "- The **state** is a shared structure that holds the current info or context of the entire applications. It acts like a shared memory where each node can read from and write to. \n",
    "\n",
    "- **nodes** are individual functions or operations that perform specific tasks within the graph. \n",
    "Each node receives an input (often the current state), processes it, and produces an output or an updated state.\n",
    "\n",
    "- **edges** are the connections between nodes that determine the flow of execution. They tell us which node should be executed next after the current one completes its task."
   ]
  },
  {
   "cell_type": "markdown",
   "id": "c9850ac4",
   "metadata": {},
   "source": [
    "<div style=\"text-align: center;\">\n",
    "  <img src=\"../images/graph_example.png\" alt=\"Basic Example of a graph in LangGraph\" style=\"width: 70%;\">\n",
    "</div>\n"
   ]
  },
  {
   "cell_type": "markdown",
   "id": "bcd550be",
   "metadata": {},
   "source": [
    "## More Complex Elements\n",
    "\n",
    "We have some speficic elements in the categories mentioned above:\n",
    "\n",
    "- **Conditional edges**: these are specialzied connections that decide the next node to execute based on some specific conditions applied to the current state (like an `if` in the graph)\n",
    "\n",
    "- **START and END nodes**: these are, respectively the virtual entry point in LangGraph and the exit, marking where the workflow begins and ends\n",
    "\n",
    "- **Tools**: these are specialized functions or utilities that a node can use to perform tasks - such as fetching data from an API. They provide additional functionalities to nodes. Nodes are considered part of the graph structure, while tools are functionalities used within the nodes."
   ]
  },
  {
   "cell_type": "markdown",
   "id": "e08e9831",
   "metadata": {},
   "source": [
    "Actually, we have something more specific than \"a node that can use a tool\": a **ToolNode**: this is a special kind of node whose main job is to run a specific tool we provided."
   ]
  },
  {
   "cell_type": "markdown",
   "id": "1bfb56a3",
   "metadata": {},
   "source": [
    "### StateGraph\n",
    "\n",
    "A **StateGraph** is a class in LangGraph used to build and compile the graph structure.\n",
    "\n",
    "It manages nodes, edges, and the overall state. "
   ]
  },
  {
   "cell_type": "markdown",
   "id": "cba797cf",
   "metadata": {},
   "source": [
    "### Runnable\n",
    "\n",
    "A runnable in LangGraph is a standardized, executable component that performs a specific task within an AI workflow.\n",
    "\n",
    "It serves as a fundamental building block, allowing us to create modular systems "
   ]
  },
  {
   "cell_type": "markdown",
   "id": "07c95ec6",
   "metadata": {},
   "source": [
    "So what's the difference between runnable and a node? Short answer: nodes perform actions on states, by getting a state as input and outputting a new state. Runnable on the other end are more flexible and can perform several different operations (more onthis later on). "
   ]
  },
  {
   "cell_type": "markdown",
   "id": "3c574eb5",
   "metadata": {},
   "source": [
    "## Messages"
   ]
  },
  {
   "cell_type": "markdown",
   "id": "0fbf5cb3",
   "metadata": {
    "vscode": {
     "languageId": "plaintext"
    }
   },
   "source": [
    "There are several message types in LangGraph: if you are familiar with openAI, you will have heard of some of this... see the image below:"
   ]
  },
  {
   "cell_type": "markdown",
   "id": "d55d0275",
   "metadata": {},
   "source": [
    "<div style=\"text-align: center;\">\n",
    "  <img src=\"../images/messages.png\" alt=\"Basic Example of a graph in LangGraph\" style=\"width: 70%;\">\n",
    "</div>\n"
   ]
  }
 ],
 "metadata": {
  "language_info": {
   "name": "python"
  }
 },
 "nbformat": 4,
 "nbformat_minor": 5
}
