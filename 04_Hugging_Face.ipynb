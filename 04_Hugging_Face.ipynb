{
  "cells": [
    {
      "cell_type": "markdown",
      "source": [
        "# **Hugging Face**"
      ],
      "metadata": {
        "id": "njWkn6lbzh-R"
      },
      "id": "njWkn6lbzh-R"
    },
    {
      "cell_type": "markdown",
      "source": [
        "Hugging Face is one of the most influential companies in the field of artificial intelligence, particularly known for democratizing access to state-of-the-art machine learning models. Originally famous for its work in natural language processing (NLP), Hugging Face created the `transformers` library, which provides easy-to-use implementations of powerful models like BERT, GPT, T5, and many others. Over time, it expanded beyond NLP into areas like computer vision, audio processing, and even reinforcement learning.\n",
        "\n",
        "The Hugging Face Hub acts as a central repository where researchers and developers can share, download, and fine-tune pre-trained models and datasets. This ecosystem has become essential for accelerating AI research and application development, reducing the need to train large models from scratch. Today, Hugging Face offers tools for model training, evaluation, deployment, and even optimization, playing a critical role in making cutting-edge AI more accessible to both researchers and industry practitioners."
      ],
      "metadata": {
        "id": "e538a978"
      },
      "id": "e538a978"
    },
    {
      "cell_type": "markdown",
      "source": [
        "## 1. The `transfomer` Library\n",
        "\n",
        "With the `transformers` library, you can perform tasks like text classification, translation, summarization, question answering, and more with just a few lines of code. It supports interoperability with both PyTorch and TensorFlow backends, and its API is designed to be user-friendly and flexible.\n",
        "\n",
        "Here's a simple example of how you can use `transformers` to perform summarization:\n",
        "\n",
        "\n",
        "\n"
      ],
      "metadata": {
        "id": "a9SUCXaU0Gbf"
      },
      "id": "a9SUCXaU0Gbf"
    },
    {
      "cell_type": "code",
      "source": [
        "!pip install transformers"
      ],
      "metadata": {
        "id": "KpNPaLGL1zrX"
      },
      "id": "KpNPaLGL1zrX",
      "execution_count": null,
      "outputs": []
    },
    {
      "cell_type": "code",
      "source": [
        "from transformers import pipeline\n",
        "\n",
        "# Load a summarization pipeline\n",
        "summarizer = pipeline(\"summarization\")\n",
        "\n",
        "# Text to summarize\n",
        "text = \"\"\"\n",
        "Hugging Face is a company that specializes in Natural Language Processing technologies.\n",
        "They have created the popular transformers library which allows users to access\n",
        "pre-trained models for a variety of tasks such as text classification, summarization,\n",
        "and translation, with minimal code and configuration.\n",
        "\"\"\"\n",
        "\n",
        "# Generate summary\n",
        "summary = summarizer(text, max_length=40, min_length=10, do_sample=False)\n",
        "\n",
        "print(summary[0]['summary_text'])"
      ],
      "metadata": {
        "id": "TmhaAqpV0-Cx"
      },
      "id": "TmhaAqpV0-Cx",
      "execution_count": null,
      "outputs": []
    },
    {
      "cell_type": "markdown",
      "source": [
        "This example demonstrates how easily you can harness the power of a pre-trained model without any deep learning expertise. The `transformers` library continues to evolve rapidly, introducing new models and capabilities that are at the forefront of AI research and application."
      ],
      "metadata": {
        "id": "4ElwVGBD07nv"
      },
      "id": "4ElwVGBD07nv"
    }
  ],
  "metadata": {
    "kernelspec": {
      "display_name": "Python 3",
      "name": "python3"
    },
    "language_info": {
      "codemirror_mode": {
        "name": "ipython",
        "version": 3
      },
      "file_extension": ".py",
      "mimetype": "text/x-python",
      "name": "python",
      "nbconvert_exporter": "python",
      "pygments_lexer": "ipython3",
      "version": "3.12.4"
    },
    "colab": {
      "provenance": [],
      "gpuType": "T4"
    },
    "accelerator": "GPU"
  },
  "nbformat": 4,
  "nbformat_minor": 5
}