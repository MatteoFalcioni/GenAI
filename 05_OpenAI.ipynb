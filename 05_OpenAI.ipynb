{
  "cells": [
    {
      "cell_type": "markdown",
      "id": "Ak7ZgyzAZTvR",
      "metadata": {
        "id": "Ak7ZgyzAZTvR"
      },
      "source": [
        "# **OpenAI**"
      ]
    },
    {
      "cell_type": "markdown",
      "id": "8ff27fe1",
      "metadata": {
        "id": "8ff27fe1"
      },
      "source": [
        "## OpenAI and Its APIs\n",
        "\n",
        "OpenAI is a leading artificial intelligence research and deployment company whose mission is to ensure that artificial general intelligence (AGI) benefits all of humanity. It is best known for developing state-of-the-art AI models such as GPT (Generative Pre-trained Transformer) for natural language processing, DALL·E for image generation, Whisper for speech recognition, and Codex for code generation.\n",
        "\n",
        "OpenAI provides access to these models via powerful, developer-friendly APIs that allow users to integrate advanced AI capabilities into their applications. These APIs support a wide range of use cases, such as:\n",
        "\n",
        "*  **Natural Language Understanding and Generation**: chatbots, summarization, translation, question answering\n",
        "*  **Image Generation**: text-to-image generation using models like DALL·E\n",
        "*  **Code Completion and Assistance**: intelligent code generation with Codex\n",
        "*  **Speech-to-Text**: transcription and audio processing with Whisper\n",
        "\n",
        "## OpenAI API Access\n",
        "\n",
        "Developers can access these services via the [OpenAI platform](https://platform.openai.com/), where they can obtain [API keys](https://platform.openai.com/api-keys), monitor usage, and manage billing. The APIs can be accessed using Python, JavaScript, or any HTTP client. OpenAI also supports **fine-tuning**, **embeddings**, and **function calling**, allowing for highly customized applications."
      ]
    },
    {
      "cell_type": "markdown",
      "id": "cfbcc269",
      "metadata": {},
      "source": [
        "## Set Up\n",
        "\n",
        "We need to install some packages, which you can find in the `openAi_requirements.txt` file"
      ]
    },
    {
      "cell_type": "code",
      "execution_count": 1,
      "id": "74e4a8d6",
      "metadata": {},
      "outputs": [
        {
          "name": "stdout",
          "output_type": "stream",
          "text": [
            "Name: openai\n",
            "Version: 0.28.0\n",
            "Summary: Python client library for the OpenAI API\n",
            "Home-page: https://github.com/openai/openai-python\n",
            "Author: OpenAI\n",
            "Author-email: support@openai.com\n",
            "License: \n",
            "Location: /home/matteo/miniconda3/envs/openAI/lib/python3.10/site-packages\n",
            "Requires: aiohttp, requests, tqdm\n",
            "Required-by: \n",
            "Note: you may need to restart the kernel to use updated packages.\n"
          ]
        }
      ],
      "source": [
        "%pip show openai"
      ]
    },
    {
      "cell_type": "code",
      "execution_count": null,
      "id": "3d5461a2",
      "metadata": {},
      "outputs": [],
      "source": []
    }
  ],
  "metadata": {
    "colab": {
      "provenance": []
    },
    "kernelspec": {
      "display_name": "openAI",
      "language": "python",
      "name": "python3"
    },
    "language_info": {
      "codemirror_mode": {
        "name": "ipython",
        "version": 3
      },
      "file_extension": ".py",
      "mimetype": "text/x-python",
      "name": "python",
      "nbconvert_exporter": "python",
      "pygments_lexer": "ipython3",
      "version": "3.10.18"
    }
  },
  "nbformat": 4,
  "nbformat_minor": 5
}
